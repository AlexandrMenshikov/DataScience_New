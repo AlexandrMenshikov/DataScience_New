{
 "cells": [
  {
   "cell_type": "code",
   "execution_count": 18,
   "metadata": {},
   "outputs": [],
   "source": [
    "import pandas as pd\n",
    "#melb_data = pd.read_csv('C:\\\\Users\\\\admin2\\\\Documents\\\\Python\\\\DataScience_New\\\\data\\\\melb_data.csv', sep=',')\n",
    "bike_data = pd.read_csv('data\\citibike-tripdata.csv', sep=',')"
   ]
  },
  {
   "cell_type": "code",
   "execution_count": 48,
   "metadata": {},
   "outputs": [],
   "source": [
    "data_df = bike_data.copy()"
   ]
  },
  {
   "cell_type": "code",
   "execution_count": 36,
   "metadata": {},
   "outputs": [
    {
     "name": "stdout",
     "output_type": "stream",
     "text": [
      "281.0\n"
     ]
    }
   ],
   "source": [
    "#Сколько пропусков в столбце start station id?\n",
    "#bike_data.info()\n",
    "print(bike_data['start station id'].mode()[0])"
   ]
  },
  {
   "cell_type": "code",
   "execution_count": null,
   "metadata": {},
   "outputs": [],
   "source": [
    "bike_data.info()"
   ]
  },
  {
   "cell_type": "code",
   "execution_count": 37,
   "metadata": {},
   "outputs": [
    {
     "name": "stdout",
     "output_type": "stream",
     "text": [
      "183582\n"
     ]
    }
   ],
   "source": [
    "#Кто больше занимается велоспортом — мужчины или женщины? \n",
    "male_count = data_df[data_df['gender'] == 1].shape[0]\n",
    "female_count = data_df[data_df['gender'] == 0].shape[0]\n",
    "print(max([male_count, female_count]))"
   ]
  },
  {
   "cell_type": "code",
   "execution_count": 52,
   "metadata": {},
   "outputs": [
    {
     "name": "stdout",
     "output_type": "stream",
     "text": [
      "<class 'pandas.core.frame.DataFrame'>\n",
      "RangeIndex: 300000 entries, 0 to 299999\n",
      "Data columns (total 13 columns):\n",
      " #   Column                   Non-Null Count   Dtype         \n",
      "---  ------                   --------------   -----         \n",
      " 0   starttime                300000 non-null  datetime64[ns]\n",
      " 1   stoptime                 300000 non-null  datetime64[ns]\n",
      " 2   start station name       299831 non-null  object        \n",
      " 3   start station latitude   300000 non-null  float64       \n",
      " 4   start station longitude  300000 non-null  float64       \n",
      " 5   end station name         299831 non-null  object        \n",
      " 6   end station latitude     300000 non-null  float64       \n",
      " 7   end station longitude    300000 non-null  float64       \n",
      " 8   bikeid                   300000 non-null  int64         \n",
      " 9   usertype                 300000 non-null  object        \n",
      " 10  birth year               300000 non-null  int64         \n",
      " 11  gender                   300000 non-null  int64         \n",
      " 12  trip duration            300000 non-null  int64         \n",
      "dtypes: datetime64[ns](2), float64(4), int64(4), object(3)\n",
      "memory usage: 29.8+ MB\n"
     ]
    }
   ],
   "source": [
    "#удаляем столбцы\n",
    "data_df = data_df.drop(['start station id', 'end station id'], axis=1)\n",
    "data_df.info()"
   ]
  },
  {
   "cell_type": "code",
   "execution_count": 44,
   "metadata": {},
   "outputs": [
    {
     "name": "stdout",
     "output_type": "stream",
     "text": [
      "11837\n"
     ]
    }
   ],
   "source": [
    "#заменяем столбец дата рождения на возраст\n",
    "data_df['age'] = 2018 - data_df['birth year']\n",
    "data_df.drop(['birth year'], axis=1, inplace=True)\n",
    "print(data_df[data_df['age'] > 60].shape[0])"
   ]
  },
  {
   "cell_type": "code",
   "execution_count": 55,
   "metadata": {},
   "outputs": [
    {
     "data": {
      "text/plain": [
       "999.91"
      ]
     },
     "metadata": {},
     "output_type": "display_data"
    }
   ],
   "source": [
    "#создание нового признака длительности поездки\n",
    "data_df['starttime'] = pd.to_datetime(data_df['starttime'])\n",
    "data_df['stoptime'] = pd.to_datetime(data_df['stoptime'])\n",
    "data_df['trip duration'] = (data_df['stoptime'] - data_df['starttime']).dt.seconds\n",
    "display (round(data_df['trip duration'].mean(), 2))"
   ]
  },
  {
   "cell_type": "code",
   "execution_count": 58,
   "metadata": {},
   "outputs": [
    {
     "data": {
      "text/plain": [
       "115135"
      ]
     },
     "execution_count": 58,
     "metadata": {},
     "output_type": "execute_result"
    }
   ],
   "source": [
    "#создание признака выходных дней и его фильтрация\n",
    "weekday = data_df['starttime'].dt.dayofweek\n",
    "data_df['weekend'] = weekday.apply(lambda x: 1 if x ==5 or x == 6 else 0)\n",
    "data_df['weekend'].sum()"
   ]
  },
  {
   "cell_type": "code",
   "execution_count": 59,
   "metadata": {},
   "outputs": [
    {
     "name": "stdout",
     "output_type": "stream",
     "text": [
      "9\n"
     ]
    }
   ],
   "source": [
    "#создание признака ночь или день\n",
    "def get_time_of_day(time):\n",
    "    if 0 <= time <= 6:\n",
    "        return 'night'\n",
    "    elif 6 < time <= 12:\n",
    "        return 'morning'\n",
    "    elif 12 < time <= 18:\n",
    "        return 'day'\n",
    "    elif 18 < time <= 23:\n",
    "        return 'evening'\n",
    "    else:\n",
    "        return 'else'\n",
    "data_df['time_of_day'] = data_df['starttime'].dt.hour.apply(get_time_of_day)\n",
    "a = data_df[data_df['time_of_day'] == 'day'].shape[0]\n",
    "b = data_df[data_df['time_of_day'] == 'night'].shape[0]\n",
    "print(round(a / b))"
   ]
  }
 ],
 "metadata": {
  "interpreter": {
   "hash": "1d4cf1d75dcbc77f86373c987227c84044db05e8b4ba592f661c13cb47e54a92"
  },
  "kernelspec": {
   "display_name": "Python 3.9.7 64-bit ('base': conda)",
   "language": "python",
   "name": "python3"
  },
  "language_info": {
   "codemirror_mode": {
    "name": "ipython",
    "version": 3
   },
   "file_extension": ".py",
   "mimetype": "text/x-python",
   "name": "python",
   "nbconvert_exporter": "python",
   "pygments_lexer": "ipython3",
   "version": "3.9.7"
  },
  "orig_nbformat": 4
 },
 "nbformat": 4,
 "nbformat_minor": 2
}
