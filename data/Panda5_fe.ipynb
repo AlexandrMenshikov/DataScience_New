{
 "cells": [
  {
   "cell_type": "code",
   "execution_count": 21,
   "metadata": {},
   "outputs": [
    {
     "name": "stdout",
     "output_type": "stream",
     "text": [
      "<class 'pandas.core.frame.DataFrame'>\n",
      "RangeIndex: 13580 entries, 0 to 13579\n",
      "Data columns (total 26 columns):\n",
      " #   Column           Non-Null Count  Dtype  \n",
      "---  ------           --------------  -----  \n",
      " 0   Suburb           13580 non-null  object \n",
      " 1   Rooms            13580 non-null  int64  \n",
      " 2   Type             13580 non-null  object \n",
      " 3   Price            13580 non-null  float64\n",
      " 4   Method           13580 non-null  object \n",
      " 5   SellerG          13580 non-null  object \n",
      " 6   Date             13580 non-null  object \n",
      " 7   Distance         13580 non-null  float64\n",
      " 8   Postcode         13580 non-null  int64  \n",
      " 9   Bedroom          13580 non-null  int64  \n",
      " 10  Bathroom         13580 non-null  int64  \n",
      " 11  Car              13580 non-null  int64  \n",
      " 12  Landsize         13580 non-null  float64\n",
      " 13  BuildingArea     13580 non-null  float64\n",
      " 14  CouncilArea      12211 non-null  object \n",
      " 15  Lattitude        13580 non-null  float64\n",
      " 16  Longtitude       13580 non-null  float64\n",
      " 17  Regionname       13580 non-null  object \n",
      " 18  Propertycount    13580 non-null  int64  \n",
      " 19  MeanRoomsSquare  13580 non-null  float64\n",
      " 20  AreaRatio        13580 non-null  float64\n",
      " 21  MonthSale        13580 non-null  int64  \n",
      " 22  AgeBuilding      13580 non-null  int64  \n",
      " 23  WeekdaySale      13580 non-null  int64  \n",
      " 24  StreetType       13580 non-null  object \n",
      " 25  Weekend          13580 non-null  int64  \n",
      "dtypes: float64(8), int64(10), object(8)\n",
      "memory usage: 2.7+ MB\n"
     ]
    },
    {
     "data": {
      "text/plain": [
       "None"
      ]
     },
     "metadata": {},
     "output_type": "display_data"
    }
   ],
   "source": [
    "import pandas as pd\n",
    "melb_data = pd.read_csv('data\\melb_data_fe.csv', sep=',')\n",
    "melb_df = melb_data.copy()\n",
    "display(melb_df.info())"
   ]
  },
  {
   "cell_type": "code",
   "execution_count": null,
   "metadata": {},
   "outputs": [],
   "source": [
    "melb_df['Date'] = pd.to_datetime(melb_df['Date'])\n",
    "#display(melb_df['Date'])\n",
    "#разделение на кварталы\n",
    "quartal_time = melb_df['Date'].dt.quarter\n",
    "#вывод количества продаж по квартально\n",
    "quartal_time.value_counts()"
   ]
  },
  {
   "cell_type": "code",
   "execution_count": 22,
   "metadata": {},
   "outputs": [
    {
     "name": "stdout",
     "output_type": "stream",
     "text": [
      "<class 'pandas.core.frame.DataFrame'>\n",
      "RangeIndex: 13580 entries, 0 to 13579\n",
      "Data columns (total 26 columns):\n",
      " #   Column           Non-Null Count  Dtype   \n",
      "---  ------           --------------  -----   \n",
      " 0   Suburb           13580 non-null  category\n",
      " 1   Rooms            13580 non-null  int64   \n",
      " 2   Type             13580 non-null  category\n",
      " 3   Price            13580 non-null  float64 \n",
      " 4   Method           13580 non-null  category\n",
      " 5   SellerG          13580 non-null  category\n",
      " 6   Date             13580 non-null  object  \n",
      " 7   Distance         13580 non-null  float64 \n",
      " 8   Postcode         13580 non-null  int64   \n",
      " 9   Bedroom          13580 non-null  int64   \n",
      " 10  Bathroom         13580 non-null  int64   \n",
      " 11  Car              13580 non-null  int64   \n",
      " 12  Landsize         13580 non-null  float64 \n",
      " 13  BuildingArea     13580 non-null  float64 \n",
      " 14  CouncilArea      12211 non-null  category\n",
      " 15  Lattitude        13580 non-null  float64 \n",
      " 16  Longtitude       13580 non-null  float64 \n",
      " 17  Regionname       13580 non-null  category\n",
      " 18  Propertycount    13580 non-null  int64   \n",
      " 19  MeanRoomsSquare  13580 non-null  float64 \n",
      " 20  AreaRatio        13580 non-null  float64 \n",
      " 21  MonthSale        13580 non-null  category\n",
      " 22  AgeBuilding      13580 non-null  int64   \n",
      " 23  WeekdaySale      13580 non-null  category\n",
      " 24  StreetType       13580 non-null  category\n",
      " 25  Weekend          13580 non-null  category\n",
      "dtypes: category(10), float64(8), int64(7), object(1)\n",
      "memory usage: 1.8+ MB\n"
     ]
    },
    {
     "data": {
      "text/plain": [
       "None"
      ]
     },
     "metadata": {},
     "output_type": "display_data"
    }
   ],
   "source": [
    "cols_to_exclude = ['Date', 'Rooms', 'Bedroom', 'Bathroom', 'Car'] # список столбцов, которые мы не берём во внимание\n",
    "max_unique_count = 150 # задаём максимальное число уникальных категорий\n",
    "for col in melb_df.columns: # цикл по именам столбцов\n",
    "    if melb_df[col].nunique() < max_unique_count and col not in cols_to_exclude: # проверяем условие\n",
    "        melb_df[col] = melb_df[col].astype('category') # преобразуем тип столбца\n",
    "display(melb_df.info())"
   ]
  },
  {
   "cell_type": "code",
   "execution_count": null,
   "metadata": {},
   "outputs": [],
   "source": [
    "#сортировка недвижимости по цене\n",
    "melb_df.sort_values(by='Price').head(10)"
   ]
  },
  {
   "cell_type": "code",
   "execution_count": null,
   "metadata": {},
   "outputs": [],
   "source": [
    "# сортировка по дате (с самой последне до первой) параметр ascending=False\n",
    "melb_df.sort_values(by='Date', ascending=False)"
   ]
  },
  {
   "cell_type": "code",
   "execution_count": null,
   "metadata": {},
   "outputs": [],
   "source": [
    "#сортировка сначала по дистанции потом по цене\n",
    "melb_df.sort_values(by=['Distance', 'Price']).loc[::10, ['Distance', 'Price']]"
   ]
  },
  {
   "cell_type": "code",
   "execution_count": null,
   "metadata": {},
   "outputs": [],
   "source": [
    "#соотношения площадей здания и участка (AreaRatio) меньше -0.8\n",
    "mask1 = melb_df['AreaRatio'] < -0.8\n",
    "#Найдём информацию о таунхаусах (Type)\n",
    "mask2 = melb_df['Type'] == 'townhouse'\n",
    "#проданных компанией (SellerG) McGrath\n",
    "mask3 = melb_df['SellerG'] == 'McGrath'\n",
    "#Результат отсортируем по дате продажи (Date) в порядке возрастания. \n",
    "#Также обновим старые индексы на новые, установив параметр ignore_index на True\n",
    "melb_df[mask1 & mask2 & mask3].sort_values(\n",
    "    by=['Date', 'AreaRatio'],\n",
    "    ascending=[True, False],\n",
    "    ignore_index=True\n",
    ").loc[:, ['Date', 'AreaRatio']]"
   ]
  },
  {
   "cell_type": "code",
   "execution_count": 27,
   "metadata": {},
   "outputs": [
    {
     "data": {
      "text/plain": [
       "BuildingArea    126.0\n",
       "Name: 1558, dtype: object"
      ]
     },
     "execution_count": 27,
     "metadata": {},
     "output_type": "execute_result"
    }
   ],
   "source": [
    "melb_df.sort_values(by=['AreaRatio'], ascending=False, ignore_index=True).loc[1558, ['BuildingArea']]\n"
   ]
  },
  {
   "cell_type": "markdown",
   "metadata": {},
   "source": [
    "Задача"
   ]
  },
  {
   "cell_type": "code",
   "execution_count": 30,
   "metadata": {},
   "outputs": [
    {
     "data": {
      "text/plain": [
       "Price    1300000.0\n",
       "Name: 18, dtype: object"
      ]
     },
     "execution_count": 30,
     "metadata": {},
     "output_type": "execute_result"
    }
   ],
   "source": [
    "mask1 = melb_df['Rooms'] > 2\n",
    "mask3 = melb_df['Type'] == 'townhouse'\n",
    "melb_df[mask1 & mask3].sort_values(\n",
    "    by=['Rooms', 'MeanRoomsSquare'],\n",
    "    ascending=[True, False],\n",
    "    ignore_index=True\n",
    ").loc[18, ['Price']]"
   ]
  },
  {
   "cell_type": "markdown",
   "metadata": {},
   "source": [
    "Группировка"
   ]
  },
  {
   "cell_type": "code",
   "execution_count": 31,
   "metadata": {},
   "outputs": [
    {
     "data": {
      "text/html": [
       "<div>\n",
       "<style scoped>\n",
       "    .dataframe tbody tr th:only-of-type {\n",
       "        vertical-align: middle;\n",
       "    }\n",
       "\n",
       "    .dataframe tbody tr th {\n",
       "        vertical-align: top;\n",
       "    }\n",
       "\n",
       "    .dataframe thead th {\n",
       "        text-align: right;\n",
       "    }\n",
       "</style>\n",
       "<table border=\"1\" class=\"dataframe\">\n",
       "  <thead>\n",
       "    <tr style=\"text-align: right;\">\n",
       "      <th></th>\n",
       "      <th>Rooms</th>\n",
       "      <th>Price</th>\n",
       "      <th>Distance</th>\n",
       "      <th>Postcode</th>\n",
       "      <th>Bedroom</th>\n",
       "      <th>Bathroom</th>\n",
       "      <th>Car</th>\n",
       "      <th>Landsize</th>\n",
       "      <th>BuildingArea</th>\n",
       "      <th>Lattitude</th>\n",
       "      <th>Longtitude</th>\n",
       "      <th>Propertycount</th>\n",
       "      <th>MeanRoomsSquare</th>\n",
       "      <th>AreaRatio</th>\n",
       "      <th>AgeBuilding</th>\n",
       "    </tr>\n",
       "    <tr>\n",
       "      <th>Type</th>\n",
       "      <th></th>\n",
       "      <th></th>\n",
       "      <th></th>\n",
       "      <th></th>\n",
       "      <th></th>\n",
       "      <th></th>\n",
       "      <th></th>\n",
       "      <th></th>\n",
       "      <th></th>\n",
       "      <th></th>\n",
       "      <th></th>\n",
       "      <th></th>\n",
       "      <th></th>\n",
       "      <th></th>\n",
       "      <th></th>\n",
       "    </tr>\n",
       "  </thead>\n",
       "  <tbody>\n",
       "    <tr>\n",
       "      <th>house</th>\n",
       "      <td>3.260874</td>\n",
       "      <td>1.242665e+06</td>\n",
       "      <td>10.979479</td>\n",
       "      <td>3104.080643</td>\n",
       "      <td>3.229336</td>\n",
       "      <td>1.613822</td>\n",
       "      <td>1.772674</td>\n",
       "      <td>617.181924</td>\n",
       "      <td>152.162553</td>\n",
       "      <td>-37.803795</td>\n",
       "      <td>144.994700</td>\n",
       "      <td>7259.025505</td>\n",
       "      <td>18.996731</td>\n",
       "      <td>-0.490031</td>\n",
       "      <td>55.669700</td>\n",
       "    </tr>\n",
       "    <tr>\n",
       "      <th>townhouse</th>\n",
       "      <td>2.837522</td>\n",
       "      <td>9.337351e+05</td>\n",
       "      <td>9.851346</td>\n",
       "      <td>3100.777379</td>\n",
       "      <td>2.814183</td>\n",
       "      <td>1.809695</td>\n",
       "      <td>1.555655</td>\n",
       "      <td>279.606822</td>\n",
       "      <td>134.649710</td>\n",
       "      <td>-37.815782</td>\n",
       "      <td>144.996489</td>\n",
       "      <td>7094.459605</td>\n",
       "      <td>18.569847</td>\n",
       "      <td>-0.094916</td>\n",
       "      <td>26.690305</td>\n",
       "    </tr>\n",
       "    <tr>\n",
       "      <th>unit</th>\n",
       "      <td>1.963871</td>\n",
       "      <td>6.051275e+05</td>\n",
       "      <td>7.607391</td>\n",
       "      <td>3110.797481</td>\n",
       "      <td>1.966523</td>\n",
       "      <td>1.183295</td>\n",
       "      <td>1.128936</td>\n",
       "      <td>477.314219</td>\n",
       "      <td>102.235863</td>\n",
       "      <td>-37.823710</td>\n",
       "      <td>144.996363</td>\n",
       "      <td>8199.280080</td>\n",
       "      <td>21.068242</td>\n",
       "      <td>0.319883</td>\n",
       "      <td>39.703016</td>\n",
       "    </tr>\n",
       "  </tbody>\n",
       "</table>\n",
       "</div>"
      ],
      "text/plain": [
       "              Rooms         Price   Distance     Postcode   Bedroom  Bathroom  \\\n",
       "Type                                                                            \n",
       "house      3.260874  1.242665e+06  10.979479  3104.080643  3.229336  1.613822   \n",
       "townhouse  2.837522  9.337351e+05   9.851346  3100.777379  2.814183  1.809695   \n",
       "unit       1.963871  6.051275e+05   7.607391  3110.797481  1.966523  1.183295   \n",
       "\n",
       "                Car    Landsize  BuildingArea  Lattitude  Longtitude  \\\n",
       "Type                                                                   \n",
       "house      1.772674  617.181924    152.162553 -37.803795  144.994700   \n",
       "townhouse  1.555655  279.606822    134.649710 -37.815782  144.996489   \n",
       "unit       1.128936  477.314219    102.235863 -37.823710  144.996363   \n",
       "\n",
       "           Propertycount  MeanRoomsSquare  AreaRatio  AgeBuilding  \n",
       "Type                                                               \n",
       "house        7259.025505        18.996731  -0.490031    55.669700  \n",
       "townhouse    7094.459605        18.569847  -0.094916    26.690305  \n",
       "unit         8199.280080        21.068242   0.319883    39.703016  "
      ]
     },
     "execution_count": 31,
     "metadata": {},
     "output_type": "execute_result"
    }
   ],
   "source": [
    "melb_df.groupby(by='Type').mean()"
   ]
  },
  {
   "cell_type": "code",
   "execution_count": 32,
   "metadata": {},
   "outputs": [
    {
     "data": {
      "text/plain": [
       "Type\n",
       "house        1.242665e+06\n",
       "townhouse    9.337351e+05\n",
       "unit         6.051275e+05\n",
       "Name: Price, dtype: float64"
      ]
     },
     "execution_count": 32,
     "metadata": {},
     "output_type": "execute_result"
    }
   ],
   "source": [
    "melb_df.groupby('Type')['Price'].mean()"
   ]
  },
  {
   "cell_type": "code",
   "execution_count": 33,
   "metadata": {},
   "outputs": [
    {
     "data": {
      "text/plain": [
       "Regionname\n",
       "Western Victoria              29.8\n",
       "Eastern Victoria              25.2\n",
       "Northern Victoria             21.8\n",
       "South-Eastern Metropolitan    14.7\n",
       "Eastern Metropolitan           7.8\n",
       "Western Metropolitan           4.3\n",
       "Southern Metropolitan          0.7\n",
       "Northern Metropolitan          0.0\n",
       "Name: Distance, dtype: float64"
      ]
     },
     "execution_count": 33,
     "metadata": {},
     "output_type": "execute_result"
    }
   ],
   "source": [
    "melb_df.groupby('Regionname')['Distance'].min().sort_values(ascending=False)"
   ]
  },
  {
   "cell_type": "code",
   "execution_count": null,
   "metadata": {},
   "outputs": [],
   "source": [
    "#найдём количество продаж, а также среднее и максимальное значения цен объектов недвижимости (Price),\n",
    "#сгруппированных по номеру месяца продажи (MonthSale). \n",
    "#Результат отсортируем по количеству продаж в порядке убывания\n",
    "melb_df.groupby('MonthSale')['Price'].agg(\n",
    "    ['count', 'mean', 'max']\n",
    ").sort_values(by='count', ascending=False)"
   ]
  },
  {
   "cell_type": "code",
   "execution_count": null,
   "metadata": {},
   "outputs": [],
   "source": [
    "melb_df.groupby('MonthSale')['Price'].agg('describe')"
   ]
  },
  {
   "cell_type": "code",
   "execution_count": 36,
   "metadata": {},
   "outputs": [
    {
     "data": {
      "text/html": [
       "<div>\n",
       "<style scoped>\n",
       "    .dataframe tbody tr th:only-of-type {\n",
       "        vertical-align: middle;\n",
       "    }\n",
       "\n",
       "    .dataframe tbody tr th {\n",
       "        vertical-align: top;\n",
       "    }\n",
       "\n",
       "    .dataframe thead th {\n",
       "        text-align: right;\n",
       "    }\n",
       "</style>\n",
       "<table border=\"1\" class=\"dataframe\">\n",
       "  <thead>\n",
       "    <tr style=\"text-align: right;\">\n",
       "      <th></th>\n",
       "      <th>nunique</th>\n",
       "      <th>set</th>\n",
       "    </tr>\n",
       "    <tr>\n",
       "      <th>Regionname</th>\n",
       "      <th></th>\n",
       "      <th></th>\n",
       "    </tr>\n",
       "  </thead>\n",
       "  <tbody>\n",
       "    <tr>\n",
       "      <th>Eastern Metropolitan</th>\n",
       "      <td>26</td>\n",
       "      <td>{Fletchers, Miles, Philip, C21, Ray, Jellis, M...</td>\n",
       "    </tr>\n",
       "    <tr>\n",
       "      <th>Eastern Victoria</th>\n",
       "      <td>11</td>\n",
       "      <td>{Barry, McGrath, Fletchers, Ray, O'Brien, Harc...</td>\n",
       "    </tr>\n",
       "    <tr>\n",
       "      <th>Northern Metropolitan</th>\n",
       "      <td>40</td>\n",
       "      <td>{Alexkarbon, Rendina, YPA, Fletchers, Nick, Mi...</td>\n",
       "    </tr>\n",
       "    <tr>\n",
       "      <th>Northern Victoria</th>\n",
       "      <td>11</td>\n",
       "      <td>{McDonald, McGrath, Barry, YPA, Ray, HAR, othe...</td>\n",
       "    </tr>\n",
       "    <tr>\n",
       "      <th>South-Eastern Metropolitan</th>\n",
       "      <td>25</td>\n",
       "      <td>{Fletchers, Eview, C21, Hodges, Greg, Ray, Jel...</td>\n",
       "    </tr>\n",
       "    <tr>\n",
       "      <th>Southern Metropolitan</th>\n",
       "      <td>38</td>\n",
       "      <td>{Raine, Rendina, Fletchers, Nick, Eview, Phili...</td>\n",
       "    </tr>\n",
       "    <tr>\n",
       "      <th>Western Metropolitan</th>\n",
       "      <td>34</td>\n",
       "      <td>{Alexkarbon, Rendina, YPA, Village, Douglas, B...</td>\n",
       "    </tr>\n",
       "    <tr>\n",
       "      <th>Western Victoria</th>\n",
       "      <td>6</td>\n",
       "      <td>{YPA, Ray, HAR, other, hockingstuart, Raine}</td>\n",
       "    </tr>\n",
       "  </tbody>\n",
       "</table>\n",
       "</div>"
      ],
      "text/plain": [
       "                            nunique  \\\n",
       "Regionname                            \n",
       "Eastern Metropolitan             26   \n",
       "Eastern Victoria                 11   \n",
       "Northern Metropolitan            40   \n",
       "Northern Victoria                11   \n",
       "South-Eastern Metropolitan       25   \n",
       "Southern Metropolitan            38   \n",
       "Western Metropolitan             34   \n",
       "Western Victoria                  6   \n",
       "\n",
       "                                                                          set  \n",
       "Regionname                                                                     \n",
       "Eastern Metropolitan        {Fletchers, Miles, Philip, C21, Ray, Jellis, M...  \n",
       "Eastern Victoria            {Barry, McGrath, Fletchers, Ray, O'Brien, Harc...  \n",
       "Northern Metropolitan       {Alexkarbon, Rendina, YPA, Fletchers, Nick, Mi...  \n",
       "Northern Victoria           {McDonald, McGrath, Barry, YPA, Ray, HAR, othe...  \n",
       "South-Eastern Metropolitan  {Fletchers, Eview, C21, Hodges, Greg, Ray, Jel...  \n",
       "Southern Metropolitan       {Raine, Rendina, Fletchers, Nick, Eview, Phili...  \n",
       "Western Metropolitan        {Alexkarbon, Rendina, YPA, Village, Douglas, B...  \n",
       "Western Victoria                 {YPA, Ray, HAR, other, hockingstuart, Raine}  "
      ]
     },
     "execution_count": 36,
     "metadata": {},
     "output_type": "execute_result"
    }
   ],
   "source": [
    "melb_df.groupby('Regionname')['SellerG'].agg(\n",
    "    \t\t['nunique', set]\n",
    ")"
   ]
  },
  {
   "cell_type": "code",
   "execution_count": 40,
   "metadata": {},
   "outputs": [
    {
     "data": {
      "text/html": [
       "<div>\n",
       "<style scoped>\n",
       "    .dataframe tbody tr th:only-of-type {\n",
       "        vertical-align: middle;\n",
       "    }\n",
       "\n",
       "    .dataframe tbody tr th {\n",
       "        vertical-align: top;\n",
       "    }\n",
       "\n",
       "    .dataframe thead th {\n",
       "        text-align: right;\n",
       "    }\n",
       "</style>\n",
       "<table border=\"1\" class=\"dataframe\">\n",
       "  <thead>\n",
       "    <tr style=\"text-align: right;\">\n",
       "      <th></th>\n",
       "      <th>mean</th>\n",
       "      <th>min</th>\n",
       "      <th>max</th>\n",
       "    </tr>\n",
       "    <tr>\n",
       "      <th>Regionname</th>\n",
       "      <th></th>\n",
       "      <th></th>\n",
       "      <th></th>\n",
       "    </tr>\n",
       "  </thead>\n",
       "  <tbody>\n",
       "    <tr>\n",
       "      <th>Northern Victoria</th>\n",
       "      <td>-37.599620</td>\n",
       "      <td>-37.68503</td>\n",
       "      <td>-37.40853</td>\n",
       "    </tr>\n",
       "    <tr>\n",
       "      <th>Western Metropolitan</th>\n",
       "      <td>-37.782382</td>\n",
       "      <td>-37.91859</td>\n",
       "      <td>-37.56005</td>\n",
       "    </tr>\n",
       "    <tr>\n",
       "      <th>Northern Metropolitan</th>\n",
       "      <td>-37.747258</td>\n",
       "      <td>-37.93940</td>\n",
       "      <td>-37.56857</td>\n",
       "    </tr>\n",
       "    <tr>\n",
       "      <th>Western Victoria</th>\n",
       "      <td>-37.695163</td>\n",
       "      <td>-37.71691</td>\n",
       "      <td>-37.67344</td>\n",
       "    </tr>\n",
       "    <tr>\n",
       "      <th>Eastern Metropolitan</th>\n",
       "      <td>-37.788820</td>\n",
       "      <td>-37.90383</td>\n",
       "      <td>-37.68508</td>\n",
       "    </tr>\n",
       "    <tr>\n",
       "      <th>Eastern Victoria</th>\n",
       "      <td>-37.959292</td>\n",
       "      <td>-38.16439</td>\n",
       "      <td>-37.75735</td>\n",
       "    </tr>\n",
       "    <tr>\n",
       "      <th>Southern Metropolitan</th>\n",
       "      <td>-37.866981</td>\n",
       "      <td>-37.99035</td>\n",
       "      <td>-37.78142</td>\n",
       "    </tr>\n",
       "    <tr>\n",
       "      <th>South-Eastern Metropolitan</th>\n",
       "      <td>-37.993727</td>\n",
       "      <td>-38.18255</td>\n",
       "      <td>-37.89210</td>\n",
       "    </tr>\n",
       "  </tbody>\n",
       "</table>\n",
       "</div>"
      ],
      "text/plain": [
       "                                 mean       min       max\n",
       "Regionname                                               \n",
       "Northern Victoria          -37.599620 -37.68503 -37.40853\n",
       "Western Metropolitan       -37.782382 -37.91859 -37.56005\n",
       "Northern Metropolitan      -37.747258 -37.93940 -37.56857\n",
       "Western Victoria           -37.695163 -37.71691 -37.67344\n",
       "Eastern Metropolitan       -37.788820 -37.90383 -37.68508\n",
       "Eastern Victoria           -37.959292 -38.16439 -37.75735\n",
       "Southern Metropolitan      -37.866981 -37.99035 -37.78142\n",
       "South-Eastern Metropolitan -37.993727 -38.18255 -37.89210"
      ]
     },
     "execution_count": 40,
     "metadata": {},
     "output_type": "execute_result"
    }
   ],
   "source": [
    "melb_df.groupby('Regionname')['Lattitude'].agg(\n",
    "    ['mean', 'min', 'max']\n",
    ").sort_values(by='max', ascending=False)"
   ]
  },
  {
   "cell_type": "code",
   "execution_count": 41,
   "metadata": {},
   "outputs": [
    {
     "data": {
      "text/html": [
       "<div>\n",
       "<style scoped>\n",
       "    .dataframe tbody tr th:only-of-type {\n",
       "        vertical-align: middle;\n",
       "    }\n",
       "\n",
       "    .dataframe tbody tr th {\n",
       "        vertical-align: top;\n",
       "    }\n",
       "\n",
       "    .dataframe thead th {\n",
       "        text-align: right;\n",
       "    }\n",
       "</style>\n",
       "<table border=\"1\" class=\"dataframe\">\n",
       "  <thead>\n",
       "    <tr style=\"text-align: right;\">\n",
       "      <th></th>\n",
       "      <th>count</th>\n",
       "      <th>mean</th>\n",
       "      <th>std</th>\n",
       "      <th>min</th>\n",
       "      <th>25%</th>\n",
       "      <th>50%</th>\n",
       "      <th>75%</th>\n",
       "      <th>max</th>\n",
       "    </tr>\n",
       "    <tr>\n",
       "      <th>Regionname</th>\n",
       "      <th></th>\n",
       "      <th></th>\n",
       "      <th></th>\n",
       "      <th></th>\n",
       "      <th></th>\n",
       "      <th></th>\n",
       "      <th></th>\n",
       "      <th></th>\n",
       "    </tr>\n",
       "  </thead>\n",
       "  <tbody>\n",
       "    <tr>\n",
       "      <th>Eastern Metropolitan</th>\n",
       "      <td>1471.0</td>\n",
       "      <td>-37.788820</td>\n",
       "      <td>0.047890</td>\n",
       "      <td>-37.90383</td>\n",
       "      <td>-37.823185</td>\n",
       "      <td>-37.777000</td>\n",
       "      <td>-37.751800</td>\n",
       "      <td>-37.68508</td>\n",
       "    </tr>\n",
       "    <tr>\n",
       "      <th>Eastern Victoria</th>\n",
       "      <td>53.0</td>\n",
       "      <td>-37.959292</td>\n",
       "      <td>0.147067</td>\n",
       "      <td>-38.16439</td>\n",
       "      <td>-38.070540</td>\n",
       "      <td>-38.026210</td>\n",
       "      <td>-37.788830</td>\n",
       "      <td>-37.75735</td>\n",
       "    </tr>\n",
       "    <tr>\n",
       "      <th>Northern Metropolitan</th>\n",
       "      <td>3890.0</td>\n",
       "      <td>-37.747258</td>\n",
       "      <td>0.049639</td>\n",
       "      <td>-37.93940</td>\n",
       "      <td>-37.785100</td>\n",
       "      <td>-37.753380</td>\n",
       "      <td>-37.713625</td>\n",
       "      <td>-37.56857</td>\n",
       "    </tr>\n",
       "    <tr>\n",
       "      <th>Northern Victoria</th>\n",
       "      <td>41.0</td>\n",
       "      <td>-37.599620</td>\n",
       "      <td>0.084455</td>\n",
       "      <td>-37.68503</td>\n",
       "      <td>-37.672770</td>\n",
       "      <td>-37.638260</td>\n",
       "      <td>-37.507330</td>\n",
       "      <td>-37.40853</td>\n",
       "    </tr>\n",
       "    <tr>\n",
       "      <th>South-Eastern Metropolitan</th>\n",
       "      <td>450.0</td>\n",
       "      <td>-37.993727</td>\n",
       "      <td>0.073411</td>\n",
       "      <td>-38.18255</td>\n",
       "      <td>-38.028280</td>\n",
       "      <td>-37.981155</td>\n",
       "      <td>-37.931123</td>\n",
       "      <td>-37.89210</td>\n",
       "    </tr>\n",
       "    <tr>\n",
       "      <th>Southern Metropolitan</th>\n",
       "      <td>4695.0</td>\n",
       "      <td>-37.866981</td>\n",
       "      <td>0.043080</td>\n",
       "      <td>-37.99035</td>\n",
       "      <td>-37.901200</td>\n",
       "      <td>-37.858800</td>\n",
       "      <td>-37.835670</td>\n",
       "      <td>-37.78142</td>\n",
       "    </tr>\n",
       "    <tr>\n",
       "      <th>Western Metropolitan</th>\n",
       "      <td>2948.0</td>\n",
       "      <td>-37.782382</td>\n",
       "      <td>0.051251</td>\n",
       "      <td>-37.91859</td>\n",
       "      <td>-37.811885</td>\n",
       "      <td>-37.780400</td>\n",
       "      <td>-37.750275</td>\n",
       "      <td>-37.56005</td>\n",
       "    </tr>\n",
       "    <tr>\n",
       "      <th>Western Victoria</th>\n",
       "      <td>32.0</td>\n",
       "      <td>-37.695163</td>\n",
       "      <td>0.011579</td>\n",
       "      <td>-37.71691</td>\n",
       "      <td>-37.702827</td>\n",
       "      <td>-37.695075</td>\n",
       "      <td>-37.687370</td>\n",
       "      <td>-37.67344</td>\n",
       "    </tr>\n",
       "  </tbody>\n",
       "</table>\n",
       "</div>"
      ],
      "text/plain": [
       "                             count       mean       std       min        25%  \\\n",
       "Regionname                                                                     \n",
       "Eastern Metropolitan        1471.0 -37.788820  0.047890 -37.90383 -37.823185   \n",
       "Eastern Victoria              53.0 -37.959292  0.147067 -38.16439 -38.070540   \n",
       "Northern Metropolitan       3890.0 -37.747258  0.049639 -37.93940 -37.785100   \n",
       "Northern Victoria             41.0 -37.599620  0.084455 -37.68503 -37.672770   \n",
       "South-Eastern Metropolitan   450.0 -37.993727  0.073411 -38.18255 -38.028280   \n",
       "Southern Metropolitan       4695.0 -37.866981  0.043080 -37.99035 -37.901200   \n",
       "Western Metropolitan        2948.0 -37.782382  0.051251 -37.91859 -37.811885   \n",
       "Western Victoria              32.0 -37.695163  0.011579 -37.71691 -37.702827   \n",
       "\n",
       "                                  50%        75%       max  \n",
       "Regionname                                                  \n",
       "Eastern Metropolitan       -37.777000 -37.751800 -37.68508  \n",
       "Eastern Victoria           -38.026210 -37.788830 -37.75735  \n",
       "Northern Metropolitan      -37.753380 -37.713625 -37.56857  \n",
       "Northern Victoria          -37.638260 -37.507330 -37.40853  \n",
       "South-Eastern Metropolitan -37.981155 -37.931123 -37.89210  \n",
       "Southern Metropolitan      -37.858800 -37.835670 -37.78142  \n",
       "Western Metropolitan       -37.780400 -37.750275 -37.56005  \n",
       "Western Victoria           -37.695075 -37.687370 -37.67344  "
      ]
     },
     "execution_count": 41,
     "metadata": {},
     "output_type": "execute_result"
    }
   ],
   "source": [
    "melb_df.groupby('Regionname')['Lattitude'].agg('describe')"
   ]
  },
  {
   "cell_type": "code",
   "execution_count": 44,
   "metadata": {},
   "outputs": [
    {
     "data": {
      "text/plain": [
       "0       2016-03-12\n",
       "1       2016-04-02\n",
       "2       2017-04-03\n",
       "3       2017-04-03\n",
       "4       2016-04-06\n",
       "           ...    \n",
       "13575   2017-08-26\n",
       "13576   2017-08-26\n",
       "13577   2017-08-26\n",
       "13578   2017-08-26\n",
       "13579   2017-08-26\n",
       "Name: Date, Length: 13580, dtype: datetime64[ns]"
      ]
     },
     "metadata": {},
     "output_type": "display_data"
    }
   ],
   "source": [
    "#melb_df['Date'] = pd.to_datetime(melb_df['Date'])\n",
    "display(melb_df['Date'])"
   ]
  }
 ],
 "metadata": {
  "interpreter": {
   "hash": "1d4cf1d75dcbc77f86373c987227c84044db05e8b4ba592f661c13cb47e54a92"
  },
  "kernelspec": {
   "display_name": "Python 3.9.7 64-bit ('base': conda)",
   "language": "python",
   "name": "python3"
  },
  "language_info": {
   "codemirror_mode": {
    "name": "ipython",
    "version": 3
   },
   "file_extension": ".py",
   "mimetype": "text/x-python",
   "name": "python",
   "nbconvert_exporter": "python",
   "pygments_lexer": "ipython3",
   "version": "3.9.7"
  },
  "orig_nbformat": 4
 },
 "nbformat": 4,
 "nbformat_minor": 2
}
