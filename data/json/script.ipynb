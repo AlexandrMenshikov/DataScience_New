{
 "cells": [
  {
   "cell_type": "code",
   "execution_count": 1,
   "metadata": {},
   "outputs": [
    {
     "name": "stdout",
     "output_type": "stream",
     "text": [
      "Collecting schedule\n",
      "  Downloading schedule-1.1.0-py2.py3-none-any.whl (10 kB)\n",
      "Installing collected packages: schedule\n",
      "Successfully installed schedule-1.1.0\n"
     ]
    }
   ],
   "source": [
    "# Устанавливаем библиотеку schedule\n",
    "!pip install schedule "
   ]
  },
  {
   "cell_type": "code",
   "execution_count": 2,
   "metadata": {},
   "outputs": [],
   "source": [
    "import schedule # Импортируем модуль schedule"
   ]
  },
  {
   "cell_type": "code",
   "execution_count": 4,
   "metadata": {},
   "outputs": [],
   "source": [
    "def task(): \n",
    "    print('Hello! I am a task!') \n",
    "    return "
   ]
  },
  {
   "cell_type": "code",
   "execution_count": null,
   "metadata": {},
   "outputs": [],
   "source": [
    "#запуск каждые 15 минут\n",
    "schedule.every(15).minutes.do(task)\n",
    "#или\n",
    "#schedule.every(1).hour.do(task) #запуск каждый час"
   ]
  },
  {
   "cell_type": "markdown",
   "metadata": {},
   "source": [
    "ВЫПОЛНЕНИЕ ФУНКЦИИ"
   ]
  },
  {
   "cell_type": "code",
   "execution_count": null,
   "metadata": {},
   "outputs": [],
   "source": [
    "import schedule #Импортируем модуль schedule\n",
    "\n",
    "def task(): #создаем функцию которая выводит фразу\n",
    "    print('Hello! I am a task!') \n",
    "    return\n",
    "\n",
    "schedule.every(4).minutes.do(task) #указывают промежуток времени через сколько обрабатывать функцию выше\n",
    "\n",
    "import time # импортируем модуль\n",
    "while True: # функция которая проверяет каждую секунду.\n",
    "    schedule.run_pending() \n",
    "    time.sleep(1)"
   ]
  }
 ],
 "metadata": {
  "interpreter": {
   "hash": "3059092d221275d610fe2452790651f75d2fd61cd7ae0dbfbcde41774a5fbf14"
  },
  "kernelspec": {
   "display_name": "Python 3.9.7 64-bit",
   "language": "python",
   "name": "python3"
  },
  "language_info": {
   "codemirror_mode": {
    "name": "ipython",
    "version": 3
   },
   "file_extension": ".py",
   "mimetype": "text/x-python",
   "name": "python",
   "nbconvert_exporter": "python",
   "pygments_lexer": "ipython3",
   "version": "3.9.7"
  },
  "orig_nbformat": 4
 },
 "nbformat": 4,
 "nbformat_minor": 2
}
