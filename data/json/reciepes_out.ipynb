{
 "cells": [
  {
   "cell_type": "code",
   "execution_count": 15,
   "metadata": {},
   "outputs": [],
   "source": [
    "import pandas as pd\n",
    "df = pd.read_csv('recipes.csv')\n",
    "ids = list(df['id'].unique())"
   ]
  },
  {
   "cell_type": "code",
   "execution_count": 16,
   "metadata": {},
   "outputs": [],
   "source": [
    "df = pd.read_csv('recipes.csv')\n",
    "ingredients = list(df.columns)[3:]"
   ]
  },
  {
   "cell_type": "code",
   "execution_count": 17,
   "metadata": {},
   "outputs": [],
   "source": [
    "def make_list(row): # Определяем имя функции и передаваемые аргументы\n",
    "    ingredient_list=[] # Создаем пустой список ингредиентов текущего блюда\n",
    "    for ingredient in ingredients: # Последовательно перебираем ингредиенты из реестра\n",
    "        if row[ingredient].item()==1: # Если текущий ингредиент входит в состав текущего блюда\n",
    "            ingredient_list.append(ingredient) # Добавляем ингредиент в список ингредиентов текущего блюда\n",
    "    return ingredient_list # Возвращаем сформированный список ингредиентов\n",
    "\n",
    "new_recipes = [] # Создаём пустой список для хранения итоговой структуры\n",
    "for current_id in ids: # Организуем цикл с параметром current_id\n",
    "    cuisine = df[df['id'] == current_id]['cuisine'].iloc[0] # Получаем значение соответствующей кухни, применив фильтр по текущему значению параметра цикла к DataFrame;\n",
    "    current_ingredients = make_list(df[df['id'] == current_id]) # Получаем перечень ингредиентов, входящих в состав текущего блюда\n",
    "    current_recipe = {'cuisine': cuisine, 'id': int(current_id), 'ingredients': current_ingredients} # Создаём текущий словарь\n",
    "    new_recipes.append(current_recipe) # Добавляем созданный словарь к списку\n",
    "\n"
   ]
  },
  {
   "cell_type": "code",
   "execution_count": 18,
   "metadata": {},
   "outputs": [],
   "source": [
    "import json # Импорт модуля json\n",
    "new_recipes = json.dumps(new_recipes) # Функция dumps() модуля json сериализирует объект Python в строку формата JSON. \n",
    "with open(\"new_recipes.json\", \"w\") as write_file: # Откроем файл new_recipes.json для записи\n",
    "    write_file.write(new_recipes) # Записываем содержимое подготовленные данные в файл"
   ]
  },
  {
   "cell_type": "markdown",
   "metadata": {},
   "source": [
    "Извлекаем контент из XML"
   ]
  },
  {
   "cell_type": "code",
   "execution_count": 19,
   "metadata": {},
   "outputs": [],
   "source": [
    "import xml.etree.ElementTree as ET # Импортируем модуль ElementTree\n",
    "tree = ET.parse('menu.xml')"
   ]
  },
  {
   "cell_type": "code",
   "execution_count": 20,
   "metadata": {},
   "outputs": [
    {
     "data": {
      "text/plain": [
       "<Element 'menu' at 0x000001AF63D11630>"
      ]
     },
     "metadata": {},
     "output_type": "display_data"
    }
   ],
   "source": [
    "root = tree.getroot()\n",
    "display(root)"
   ]
  },
  {
   "cell_type": "code",
   "execution_count": 21,
   "metadata": {},
   "outputs": [
    {
     "data": {
      "text/plain": [
       "xml.etree.ElementTree.Element"
      ]
     },
     "metadata": {},
     "output_type": "display_data"
    }
   ],
   "source": [
    "display(type(root))"
   ]
  },
  {
   "cell_type": "code",
   "execution_count": 22,
   "metadata": {},
   "outputs": [
    {
     "data": {
      "text/plain": [
       "[<Element 'dish' at 0x000001AF63D115E0>,\n",
       " <Element 'dish' at 0x000001AF63D11770>]"
      ]
     },
     "metadata": {},
     "output_type": "display_data"
    }
   ],
   "source": [
    "display(list(root)) #посмотреть список потомков корневого узла"
   ]
  },
  {
   "cell_type": "code",
   "execution_count": 23,
   "metadata": {},
   "outputs": [
    {
     "data": {
      "text/plain": [
       "[<Element 'price' at 0x000001AF63D117C0>,\n",
       " <Element 'weight' at 0x000001AF63D11810>,\n",
       " <Element 'class' at 0x000001AF63D11860>]"
      ]
     },
     "metadata": {},
     "output_type": "display_data"
    }
   ],
   "source": [
    " display(list(root[1])) #получить список потомков второго"
   ]
  },
  {
   "cell_type": "markdown",
   "metadata": {},
   "source": [
    "Теги"
   ]
  },
  {
   "cell_type": "code",
   "execution_count": 24,
   "metadata": {},
   "outputs": [
    {
     "data": {
      "text/plain": [
       "{'name': 'Кура'}"
      ]
     },
     "metadata": {},
     "output_type": "display_data"
    },
    {
     "data": {
      "text/plain": [
       "<Element 'class' at 0x000001AF63D11720>"
      ]
     },
     "metadata": {},
     "output_type": "display_data"
    },
    {
     "data": {
      "text/plain": [
       "'40'"
      ]
     },
     "metadata": {},
     "output_type": "display_data"
    },
    {
     "data": {
      "text/plain": [
       "'menu'"
      ]
     },
     "metadata": {},
     "output_type": "display_data"
    }
   ],
   "source": [
    "display(root[0].attrib)\n",
    "display(root[0][2])\n",
    "display(root[0][0].text)\n",
    "display(root.tag)"
   ]
  },
  {
   "cell_type": "markdown",
   "metadata": {},
   "source": [
    "ИСПОЛЬЗОВАНИЕ ЦИКЛОВ"
   ]
  },
  {
   "cell_type": "code",
   "execution_count": 25,
   "metadata": {},
   "outputs": [
    {
     "name": "stdout",
     "output_type": "stream",
     "text": [
      "Кура price 40\n",
      "Кура weight 300\n",
      "Кура class Мясо\n",
      "\n",
      "Греча price 20\n",
      "Греча weight 200\n",
      "Греча class Крупа\n",
      "\n"
     ]
    }
   ],
   "source": [
    "for dish in root:\n",
    "    for param in dish:\n",
    "        print(dish.attrib['name'], param.tag, param.text)\n",
    "    print()"
   ]
  },
  {
   "cell_type": "markdown",
   "metadata": {},
   "source": [
    "ДАННЫЕ ИЗ XML-ФАЙЛА В DATAFRAME"
   ]
  },
  {
   "cell_type": "code",
   "execution_count": 26,
   "metadata": {},
   "outputs": [
    {
     "name": "stderr",
     "output_type": "stream",
     "text": [
      "C:\\Users\\admin2\\AppData\\Local\\Temp/ipykernel_6460/3087313828.py:11: FutureWarning: The frame.append method is deprecated and will be removed from pandas in a future version. Use pandas.concat instead.\n",
      "  df = df.append(pd.Series(row, index=column_names), ignore_index=True)\n",
      "C:\\Users\\admin2\\AppData\\Local\\Temp/ipykernel_6460/3087313828.py:11: FutureWarning: The frame.append method is deprecated and will be removed from pandas in a future version. Use pandas.concat instead.\n",
      "  df = df.append(pd.Series(row, index=column_names), ignore_index=True)\n"
     ]
    },
    {
     "data": {
      "text/html": [
       "<div>\n",
       "<style scoped>\n",
       "    .dataframe tbody tr th:only-of-type {\n",
       "        vertical-align: middle;\n",
       "    }\n",
       "\n",
       "    .dataframe tbody tr th {\n",
       "        vertical-align: top;\n",
       "    }\n",
       "\n",
       "    .dataframe thead th {\n",
       "        text-align: right;\n",
       "    }\n",
       "</style>\n",
       "<table border=\"1\" class=\"dataframe\">\n",
       "  <thead>\n",
       "    <tr style=\"text-align: right;\">\n",
       "      <th></th>\n",
       "      <th>name</th>\n",
       "      <th>price</th>\n",
       "      <th>weight</th>\n",
       "      <th>class</th>\n",
       "    </tr>\n",
       "  </thead>\n",
       "  <tbody>\n",
       "    <tr>\n",
       "      <th>0</th>\n",
       "      <td>Кура</td>\n",
       "      <td>40</td>\n",
       "      <td>300</td>\n",
       "      <td>Мясо</td>\n",
       "    </tr>\n",
       "    <tr>\n",
       "      <th>1</th>\n",
       "      <td>Греча</td>\n",
       "      <td>20</td>\n",
       "      <td>200</td>\n",
       "      <td>Крупа</td>\n",
       "    </tr>\n",
       "  </tbody>\n",
       "</table>\n",
       "</div>"
      ],
      "text/plain": [
       "    name price weight  class\n",
       "0   Кура    40    300   Мясо\n",
       "1  Греча    20    200  Крупа"
      ]
     },
     "metadata": {},
     "output_type": "display_data"
    }
   ],
   "source": [
    "import xml.etree.ElementTree as ET\n",
    "tree = ET.parse('menu.xml')    \n",
    "root = tree.getroot()\n",
    "\n",
    "import pandas as pd\n",
    "column_names = ['name', 'price', 'weight', 'class']\n",
    "df = pd.DataFrame(columns=column_names)\n",
    "\n",
    "for dish in root:\n",
    "    row = [dish.attrib['name'], dish[0].text, dish[1].text, dish[2].text]\n",
    "    df = df.append(pd.Series(row, index=column_names), ignore_index=True)\n",
    "display(df)"
   ]
  },
  {
   "cell_type": "code",
   "execution_count": 27,
   "metadata": {},
   "outputs": [
    {
     "data": {
      "text/plain": [
       "<Element 'menu' at 0x000001AF63D202C0>"
      ]
     },
     "metadata": {},
     "output_type": "display_data"
    }
   ],
   "source": [
    "import xml.etree.ElementTree as ET\n",
    "\n",
    "new_root = ET.Element('menu')\n",
    "display(new_root)"
   ]
  },
  {
   "cell_type": "code",
   "execution_count": 28,
   "metadata": {},
   "outputs": [
    {
     "data": {
      "text/plain": [
       "[<Element 'dish' at 0x000001AF63D11D10>,\n",
       " <Element 'dish' at 0x000001AF63D0D950>]"
      ]
     },
     "metadata": {},
     "output_type": "display_data"
    }
   ],
   "source": [
    "dish1 = ET.SubElement(new_root, 'dish', name='Кура')\n",
    "dish2 = ET.SubElement(new_root, 'dish', name='Греча')\n",
    "display(list(new_root))"
   ]
  },
  {
   "cell_type": "markdown",
   "metadata": {},
   "source": [
    "Добавим в создаваемую структуру по три потомка (атрибута) к двум новым узлам"
   ]
  },
  {
   "cell_type": "code",
   "execution_count": 29,
   "metadata": {},
   "outputs": [
    {
     "data": {
      "text/plain": [
       "[<Element 'price' at 0x000001AF63CCACC0>,\n",
       " <Element 'weight' at 0x000001AF63D0D9F0>,\n",
       " <Element 'class' at 0x000001AF63D11AE0>]"
      ]
     },
     "metadata": {},
     "output_type": "display_data"
    },
    {
     "data": {
      "text/plain": [
       "[<Element 'price' at 0x000001AF63D11CC0>,\n",
       " <Element 'weight' at 0x000001AF63D11D60>,\n",
       " <Element 'class' at 0x000001AF63D11BD0>]"
      ]
     },
     "metadata": {},
     "output_type": "display_data"
    }
   ],
   "source": [
    "price1 = ET.SubElement(dish1, \"price\").text = \"40\"\n",
    "weight1 = ET.SubElement(dish1, \"weight\").text = \"300\"\n",
    "class1 = ET.SubElement(dish1, \"class\").text = \"Мясо\"\n",
    "display(list(dish1))\n",
    "\n",
    "price2 = ET.SubElement(dish2, \"price\").text = \"20\"\n",
    "weight2 = ET.SubElement(dish2, \"weight\").text = \"200\"\n",
    "class2 = ET.SubElement(dish2, \"class\").text = \"Крупа\"\n",
    "display(list(dish2))"
   ]
  },
  {
   "cell_type": "code",
   "execution_count": 30,
   "metadata": {},
   "outputs": [
    {
     "name": "stdout",
     "output_type": "stream",
     "text": [
      "Кура price 40\n",
      "Кура weight 300\n",
      "Кура class Мясо\n",
      "\n",
      "Греча price 20\n",
      "Греча weight 200\n",
      "Греча class Крупа\n",
      "\n"
     ]
    }
   ],
   "source": [
    "for dish in new_root:\n",
    "    for param in dish:\n",
    "        print(dish.attrib['name'], param.tag, param.text)\n",
    "    print()"
   ]
  },
  {
   "cell_type": "code",
   "execution_count": 31,
   "metadata": {},
   "outputs": [],
   "source": [
    "new_root_string = ET.tostring(new_root)\n",
    "with open(\"new_menu.xml\", \"wb\") as f:\n",
    "    f.write(new_root_string)"
   ]
  },
  {
   "cell_type": "code",
   "execution_count": 32,
   "metadata": {},
   "outputs": [],
   "source": [
    "ET.ElementTree(new_root).write('new_menu_good.xml', encoding=\"utf-8\")"
   ]
  },
  {
   "cell_type": "markdown",
   "metadata": {},
   "source": [
    "ПОЛУЧАЕМ СОДЕРЖИМОЕ ВЕБ-СТРАНИЦЫ"
   ]
  },
  {
   "cell_type": "code",
   "execution_count": 33,
   "metadata": {},
   "outputs": [
    {
     "name": "stdout",
     "output_type": "stream",
     "text": [
      "<!doctype html>\n",
      "<html class=\"no-js bg-fixed _no-bg\" style=\"background-image:url(https://nplus1.ru/images/2021/10/11/9c6bcb5f7c01c6d88d49410e16ebc003.jpg)\" lang=\"\">\n",
      "<head>\n",
      "    \n",
      "    <meta charset=\"utf-8\">\n",
      "    <meta http-equiv=\"x-ua-compatible\" content=\"ie=edge\">\n",
      "    <meta name=\"viewport\" content=\"width=device-width, initial-scale=1\">\n",
      "        <meta name=\"apple-mobile-web-app-capable\" content=\"yes\">\n",
      "    <meta name=\"apple-mobile-web-app-status-bar-style\" content=\"black\">\n",
      "                <meta name='wmail-verification' content='7991d7eb02d759f05b9050e111a7e3eb' />\n",
      "\n",
      "    <link rel=\"canonical\" href=\"https://nplus1.ru/news/2021/10/11/econobel2021\" />\n",
      "\n",
      "    <link rel=\"icon\" href=\"/i/favicon-bw.png\" />\n",
      "\n",
      "\n",
      "        <title>Премию Нобеля по экономике присудили за исследования экономики труда и причинно-следственных связей</title>\n",
      "\n",
      "    \t    <meta itemprop=\"datePublished\" content=\"2021-10-11\"/>\n",
      "\t\n",
      "\t    <meta name=\"mediator_author\" content=\"Илья Ферапонтов\"/> \n",
      "\t\n",
      "        <!-- amp page -->\n",
      "    <link rel=\"amphtml\" href=\"https://nplus1.ru/news/2021/10/11/econobel2021/amp\">\n",
      "    \n",
      "\n",
      "        <!-- for Google -->\n",
      "        <meta name=\"description\" content=\"Премия присуждена Дэвиду Карду (David Card) за его вклад в эмпирические исследования экономики рынка труда, а также Джошуа Энгристу (Joshua Angrist) и Гвидо Имбенсу (Guido Imbens) за их вклад в методологию анализа причинно-следственных связей. \" />\n",
      "        \n",
      "        <meta name=\"author\" content=\"Илья Ферапонтов\" />\n",
      "        <meta name=\"copyright\" content=\"\" />\n",
      "\n",
      "        <!-- for Facebook -->\n",
      "        <meta property=\"og:title\" content=\"Премию Нобеля по экономике присудили за исследования экономики труда и причинно-следственных связей\" />\n",
      "                <meta property=\"og:image\" content=\"https://nplus1.ru/images/2021/10/11/7117bddc1d6a6e180ef208ba72511f03.jpg\" />\n",
      "        <meta property=\"og:url\" content=\"https://nplus1.ru/news/2021/10/11/econobel2021\" />\n",
      "        <meta property=\"og:description\" content=\"Премия присуждена Дэвиду Карду (David Card) за его вклад в эмпирические исследования экономики рынка труда, а также Джошуа Энгристу (Joshua Angrist) и Гвидо Имбенсу (Guido Imbens) за их вклад в методологию анализа причинно-следственных связей. \" />\n",
      "        <!-- for Twitter -->\n",
      "        <meta name=\"twitter:card\" content=\"summary_large_image\">\n",
      "        <meta name=\"twitter:site\" content=\"@nplusodin\" />\n",
      "        <meta name=\"twitter:title\" content=\"Премию Нобеля по экономике присудили за исследования экономики труда и причинно-следственных связей\" />\n",
      "        <meta name=\"twitter:description\" content=\"Премия присуждена Дэвиду Карду (David Card) за его вклад в эмпирические исследования экономики рынка труда, а также Джошуа Энгристу (Joshua Angrist) и Гвидо Имбенсу (Guido Imbens) за их вклад в методологию анализа причинно-следственных связей. \" />\n",
      "        <meta name=\"twitter:image\" content=\"https://nplus1.ru/images/2021/10/11/7117bddc1d6a6e180ef208ba72511f03.jpg\" />\n",
      "        \n",
      "        <meta name=\"yandex-verification\" content=\"8c90b02c84ac3b72\" />\n",
      "        <meta name=\"pmail-verification\" content=\"b419949322895fc9106e24ed01be58ac\">\n",
      "        \n",
      "\n",
      "        <link rel='alternate' type='application/rss+xml' title='RSS' href='https://nplus1.ru/rss'>\n",
      "\n",
      "    <link rel=\"stylesheet\" href=\"/css/font-awesome.min.css\">\n",
      "    <link rel=\"stylesheet\" href=\"/css/main.min.css?v=1645705960\">\n",
      "    <link rel=\"stylesheet\" href=\"/css/desktop.min.css?v=1452887696\">\n",
      "    <link rel=\"stylesheet\" href=\"/css/tablet.min.css?v=1499281342\">\n",
      "    <link rel=\"stylesheet\" href=\"/css/mobile.min.css?v=1635965090\">\n",
      "    <link rel=\"stylesheet\" href=\"/js/tests/scopus/css/style.css\">\n",
      "    \n",
      "            <script src=\"//ajax.googleapis.com/ajax/libs/jquery/1.11.2/jquery.min.js\"></script>\n",
      "    \n",
      "    <script src=\"//cdnjs.cloudflare.com/ajax/libs/modernizr/2.8.3/modernizr.min.js\"></script>     \n",
      "    \n",
      "            <script type=\"text/javascript\" src=\"/js/lib/adfox.asyn.code.ver3.js\"> </script>\n",
      "\t\t<script type=\"text/javascript\" src=\"/js/lib/adfox.asyn.code.scroll.js\"> </script>\n",
      "\t    <script src=\"https://yastatic.net/pcode/adfox/loader.js\" crossorigin=\"anonymous\"></script>\n",
      "        <script async id=\"__lxGc__rtr\" type=\"text/javascript\" src=\"//s.clickiocdn.com/t/195458/360.js\"></script>\n",
      "        <script async type=\"text/javascript\" src=\"//s.luxupcdnc.com/t/common_402.js\"></script>\t\t\n",
      "\n",
      "\t\t<!--  ad -->\n",
      "\t\t<script type=\"text/javascript\">\n",
      "\t\t    var __colAdLoaded = false;\n",
      "\t\t    var __topAdLoaded = false;\n",
      "\t\t    \n",
      "\t\t    var __id = \"\";\n",
      "\t\t    \n",
      "\t\t    function detectAd(id){\n",
      "\t\t        var _ad = document.getElementById(\"AdFox_banner_\"+id);\n",
      "\t\t    \t    console.debug(_ad);\n",
      "\t\t        \n",
      "\t\t        __id = id;\n",
      "\t\t        if(_ad != null && _ad.innerHTML == \"\"){\n",
      "\t\t            $(\".col-ad\").remove();\n",
      "\t\t        }\n",
      "\t\t        __colAdLoaded = true;\n",
      "\t\t    }\n",
      "\t\t    function detectAdTop(id){\n",
      "\t\t        __topAdLoaded = true;\n",
      "\t\t    }\n",
      "\t\t</script>\n",
      "\t\t<!-- /ad -->\n",
      "\t\t\n",
      "\t\t\n",
      "\t\t    \n",
      "\n",
      "\n",
      "<script type=\"application/ld+json\">{\"@context\":\"http://schema.org\",\"@type\":\"NewsArticle\",\"mainEntityOfPage\":{\"@type\":\"WebPage\",\"@id\":\"https://nplus1.ru/news/2021/10/11/econobel2021\"},\"headline\":\"Премию Нобеля по экономике присудили за исследования экономики труда и причинно-следственных связей\",\"description\":\"Премия присуждена Дэвиду Карду (David Card) за его вклад в эмпирические исследования экономики рынка труда, а также Джошуа Энгристу (Joshua Angrist) и Гвидо Имбенсу (Guido Imbens) за их вклад в методологию анализа причинно-следственных связей. \",\"image\":\"https://nplus1.ru/images/2021/10/11/7117bddc1d6a6e180ef208ba72511f03.jpg\",\"author\":{\"@type\":\"Person\",\"name\":\"Илья Ферапонтов\"},\"publisher\":{\"@type\":\"Organization\",\"name\":\"N + 1\",\"logo\":{\"@type\":\"ImageObject\",\"url\":\"https://nplus1.ru/i/logo-alt.png\"}},\"datePublished\":\"2021-10-11\"}</script>\n",
      "</head>\n",
      "<body style=\"background-image:url(https://nplus1.ru/images/2021/10/11/9c6bcb5f7c01c6d88d49410e16ebc003.jpg)\" class=\"_inner  \">\n",
      "\n",
      "<div class=\"shadow-overlay\"></div>\n",
      "<link property='' rel='stylesheet' href='//s.luxupcdnc.com/cp/all/cookies_policy.css' />\n",
      "<script type='text/javascript'>_cookies_policy = {dark:0,bottom:1,text:'Этот сайт использует cookies для улучшения качества работы',link:'Подробнее',href:'https://nplus1.ru/cookies-policy',button:'Закрыть'};</script>\n",
      "<script async type='text/javascript' src='//s.luxupcdnc.com/cp/all/cookies_policy.js'></script>\n",
      "\n",
      "\n",
      "\n",
      "\n",
      "\n",
      "\n",
      "<div class=\"thx-rospechat\">Функционирует при финансовой поддержке Федерального агентства по печати и массовым коммуникациям (Роспечать)</div>\n",
      "\n",
      "    <div id=\"viewport\">\n",
      "\t<div id=\"shadow\"></div>\n",
      "        <div class=\"ad ad-top\">\n",
      "        \n",
      "                                                    \n",
      "                    \n",
      "    \n",
      "    \n",
      "                        \t    <!-- bh1 -->\n",
      "\n",
      "\n",
      "<!--AdFox START-->\n",
      "<!--yandex_nplus1adv-->\n",
      "<!--Площадка: N + 1 / * / *-->\n",
      "<!--Тип баннера: Растяжка_100%х250-->\n",
      "<!--Расположение: <верх страницы>-->\n",
      "<div id=\"adfox_162739969569252320\"></div>\n",
      "<script>\n",
      "    window.yaContextCb.push(()=>{\n",
      "        Ya.adfoxCode.create({\n",
      "            ownerId: 386110,\n",
      "        containerId: 'adfox_162739969569252320',\n",
      "            params: {\n",
      "                pp: 'g',\n",
      "            ps: 'fbio',\n",
      "            p2: 'hhkj'\n",
      "            }\n",
      "        })\n",
      "    })\n",
      "</script>\n",
      "\n",
      "\n",
      "\n",
      "\t\t                        \n",
      "        </div>\n",
      "        <header id=\"header-mobile\">\n",
      "            \n",
      "            <div class=\"container\">\n",
      "                <a href=\"#\" class=\"action-menu pull-left\"><i class=\"icon icon-navicon\"></i></a>\n",
      "                <a href=\"/\" class=\"link-logo\"><img src=\"/i/logo-mobile.png\"/></a>\n",
      "                <a href=\"#\" class=\"action-search pull-right\"><i class=\"icon icon-search\"></i></a>\n",
      "                <form action=\"/search\" method=\"get\" class=\"form-search\">\n",
      "                    <div class=\"control\">\n",
      "                        <input type=\"text\" name=\"q\" placeholder=\"Найти\" value=\"\"/>\n",
      "                    </div>\n",
      "                    <a href=\"#\" class=\"action-search-close\">×</a>\n",
      "                </form>\n",
      "            </div>\n",
      "            <nav class=\"nav-rubrics\">\n",
      "    <ul>\n",
      "                <li>\n",
      "            <a href=\"/rubric/astronomy\" class=\"\">Астрономия</a>\n",
      "        </li>    \n",
      "                <li>\n",
      "            <a href=\"/rubric/physics\" class=\"\">Физика</a>\n",
      "        </li>    \n",
      "                <li>\n",
      "            <a href=\"/rubric/biology\" class=\"\">Биология</a>\n",
      "        </li>    \n",
      "                <li>\n",
      "            <a href=\"/rubric/robots-drones\" class=\"\">Роботы и дроны</a>\n",
      "        </li>    \n",
      "        \n",
      "                                    <li>\n",
      "                    <a href=\"/theme/bookshelf\" class=\"\">Книжная полка</a>\n",
      "                </li>\n",
      "                            <li>\n",
      "                    <a href=\"/theme/Courses\" class=\"\">Курсы</a>\n",
      "                </li>\n",
      "                            <li>\n",
      "                    <a href=\"/theme/coronavirus-history\" class=\"\">Коронавирусные хроники</a>\n",
      "                </li>\n",
      "                            <li>\n",
      "                    <a href=\"/theme/offline\" class=\"\">N + Offline</a>\n",
      "                </li>\n",
      "                            <li>\n",
      "                    <a href=\"/theme/icm22\" class=\"\">ICM2022</a>\n",
      "                </li>\n",
      "                    \n",
      "            </ul>\n",
      "</nav>\n",
      "\n",
      "        </header>\n",
      "        \n",
      "    \n",
      "        <div id=\"layout\" class=\"js-mediator-container\">\n",
      "            <!-- header -->\n",
      "                        <header id=\"header\" class=\"_middle\">\n",
      "    <div class=\"row\">\n",
      "        \n",
      "        <div class=\"col col-logo\">\n",
      "            <a href=\"/\" class=\"link-logo\"></a>\n",
      "        </div>\n",
      "        <div class=\"col col-nav-main\">\n",
      "            <form action=\"/search\" method=\"get\" class=\"form-search\">\n",
      "                <div class=\"control\">\n",
      "                    <input type=\"text\" name=\"q\" placeholder=\"Найти\" value=\"\"/>\n",
      "                </div>\n",
      "                <a href=\"#\" class=\"action-search-close\">×</a>\n",
      "            </form>\n",
      "            \n",
      "            <nav class=\"nav-rubrics\">\n",
      "    <ul>\n",
      "                <li>\n",
      "            <a href=\"/rubric/astronomy\" class=\"\">Астрономия</a>\n",
      "        </li>    \n",
      "                <li>\n",
      "            <a href=\"/rubric/physics\" class=\"\">Физика</a>\n",
      "        </li>    \n",
      "                <li>\n",
      "            <a href=\"/rubric/biology\" class=\"\">Биология</a>\n",
      "        </li>    \n",
      "                <li>\n",
      "            <a href=\"/rubric/robots-drones\" class=\"\">Роботы и дроны</a>\n",
      "        </li>    \n",
      "        \n",
      "        \n",
      "                <li>\n",
      "            <a href=\"#\" class=\"action-search\"><i class=\"icon icon-search\"></i></a>\n",
      "        </li>\n",
      "            </ul>\n",
      "</nav>            <nav class=\"nav-themes\">\n",
      "    <ul>\n",
      "                <li data-name=\"bookshelf\">\n",
      "            <a href=\"/theme/bookshelf\" class=\"\">Книжная полка</a>\n",
      "        </li>    \n",
      "                <li data-name=\"Courses\">\n",
      "            <a href=\"/theme/Courses\" class=\"\">Курсы</a>\n",
      "        </li>    \n",
      "                <li data-name=\"coronavirus-history\">\n",
      "            <a href=\"/theme/coronavirus-history\" class=\"\">Коронавирусные хроники</a>\n",
      "        </li>    \n",
      "                <li data-name=\"offline\">\n",
      "            <a href=\"/theme/offline\" class=\"\">N + Offline</a>\n",
      "        </li>    \n",
      "                <li data-name=\"icm22\">\n",
      "            <a href=\"/theme/icm22\" class=\"\">ICM2022</a>\n",
      "        </li>    \n",
      "            </ul>\n",
      "</nav>            \n",
      "        </div>\n",
      "    </div>\n",
      "        <div class=\"container line-up\">\n",
      "        <div class=\"line line-second\">\n",
      "                                            <a href=\"https://nplus1.ru/blog/2022/02/22/blood-and-hematologic-disease\" class=\"action-line-toggle\">\n",
      "                    <div class=\"heading\"><span></span></div>\n",
      "                </a>\n",
      "                                <a href=\"https://nplus1.ru/blog/2022/02/22/blood-and-hematologic-disease\" class=\"container-link\">\n",
      "                    <div class=\"heading\"><span>Книжная полка</span></div>\n",
      "                    <div class=\"link\"><span>Михаил Фоминых &laquo;Пять литров красного: Что необходимо знать о крови, ее болезнях и лечении&raquo;</span></div>\n",
      "                </a>\n",
      "                                <a href=\"https://nplus1.ru/blog/2022/02/17/seeing-into-the-future\" class=\"container-link\">\n",
      "                    <div class=\"heading\"><span>Книжная полка</span></div>\n",
      "                    <div class=\"link\"><span>Мартин Ван Кревельд &laquo;Прозревая будущее: Краткая история предсказаний&raquo;</span></div>\n",
      "                </a>\n",
      "                                <a href=\"https://nplus1.ru/blog/2022/02/10/the-spike\" class=\"container-link\">\n",
      "                    <div class=\"heading\"><span>Книжная полка</span></div>\n",
      "                    <div class=\"link\"><span>Марк Хамфрис &laquo;Скорость мысли. Грандиозное путешествие сквозь мозг за 2,1 секунды&raquo;</span></div>\n",
      "                </a>\n",
      "                                <a href=\"https://nplus1.ru/blog/2022/02/08/the-bible-and-reality\" class=\"container-link\">\n",
      "                    <div class=\"heading\"><span>Книжная полка</span></div>\n",
      "                    <div class=\"link\"><span>Андрей Десницкий &laquo;Библия: Что было &quot;на самом деле&quot;?&raquo;</span></div>\n",
      "                </a>\n",
      "                                <a href=\"https://nplus1.ru/blog/2022/02/04/a-demon-haunted-land\" class=\"container-link\">\n",
      "                    <div class=\"heading\"><span>Книжная полка</span></div>\n",
      "                    <div class=\"link\"><span>Моника Блэк &laquo;Земля, одержимая демонами: Ведьмы, целители и призраки прошлого в послевоенной Германии&raquo;</span></div>\n",
      "                </a>\n",
      "                                <a href=\"https://nplus1.ru/blog/2022/02/01/lower-than-zero\" class=\"container-link\">\n",
      "                    <div class=\"heading\"><span>Коронавирусные хроники</span></div>\n",
      "                    <div class=\"link\"><span>Вакцинация в убыток: что означает и откуда берется отрицательная эффективность &laquo;ЭпиВакКороны&raquo;</span></div>\n",
      "                </a>\n",
      "                                <a href=\"https://nplus1.ru/blog/2022/01/31/the-zoologists-guide-to-the-galaxy\" class=\"container-link\">\n",
      "                    <div class=\"heading\"><span>Книжная полка</span></div>\n",
      "                    <div class=\"link\"><span>Арик Кершенбаум &laquo;Путеводитель зоолога по Галактике&raquo;</span></div>\n",
      "                </a>\n",
      "                                <a href=\"https://nplus1.ru/blog/2022/01/28/covid-symptoms\" class=\"container-link\">\n",
      "                    <div class=\"heading\"><span>Коронавирусные хроники</span></div>\n",
      "                    <div class=\"link\"><span>Их симптомы: почему мы болеем ковидом по-новому</span></div>\n",
      "                </a>\n",
      "                                <a href=\"https://nplus1.ru/blog/2022/01/25/galileo-and-the-science-deniers\" class=\"container-link\">\n",
      "                    <div class=\"heading\"><span>Книжная полка</span></div>\n",
      "                    <div class=\"link\"><span>Марио Ливио &laquo;Галилей и отрицатели науки&raquo;</span></div>\n",
      "                </a>\n",
      "                                                \t\t           \t<a href=\"https://nplus1.ru/blog/2022/02/25/poisons-around-and-inside\" class=\"container-link active\">\n",
      "        \t        \t<div class=\"heading\"><span>Книжная полка</span></div>\n",
      "            \t    \t<div class=\"link\"><span>Сакина Зейналова &laquo;Яды: вокруг и внутри. Путеводитель по самым опасным веществам на планете&raquo;</span></div>\n",
      "\t\t            </a>\n",
      "\t                                    \n",
      "            <!-- here -->\n",
      "                    </div>\n",
      "        \n",
      "    </div>\n",
      "    </header>                        <!-- /header -->\n",
      "            <!--  hero -->\n",
      "                            <!-- /hero -->\n",
      "            <!-- main section -->\n",
      "            <section id=\"main\">\n",
      "                \n",
      "                \n",
      "    <div class=\"container _middle\">\n",
      "        <div class=\"row\" data-adaptive=\"1\" data-tablet-class=\"row-wrap\" data-mobile-class=\"row-wrap\">\n",
      "            <div class=\"col col-3\" data-adaptive=\"1\" data-mobile-class=\"col-1\">\n",
      "\n",
      "                <article class=\"content\" id=\"article\" data-id=\"30917\" data-visit=\"1\" data-type=\"0\">\n",
      "                                        <div class=\"meta\">\n",
      "    <div class=\"tables\">\n",
      "        <p class=\"table\">\n",
      "                        <a data-rubric=\"economics\" href=\"/rubric/economics\">Экономика</a>\n",
      "                                                <a data-theme=\"nobelprize\" href=\"/theme/nobelprize\">Нобелевская премия</a>\n",
      "                    </p>\n",
      "        <p class=\"table\">\n",
      "            <a href=\"/news/2021/10/11\">\n",
      "                <time itemprop=\"datePublished\" content=\"2021-10-11\" data-unix=\"1633946665\">\n",
      "                    <span>13:04</span>\n",
      "                    <span>11 Окт. 2021</span>\n",
      "                </time>\n",
      "            </a>\n",
      "        </p>\n",
      "        <p class=\"table\">\n",
      "            <a href=\"/difficult/1.1\">\n",
      "                <span>Сложность</span>\n",
      "                <span class=\"difficult-value\">1.1</span>\n",
      "            </a>\n",
      "        </p>\n",
      "    </div>\n",
      "</div>\n",
      "<script type=\"text/javascript\">\n",
      "    var _dlData = {custom_rubric: []};\n",
      "        _dlData.custom_author = 'Илья Ферапонтов';\n",
      "        _dlData.custom_difficult = '1.1';\n",
      "        _dlData.custom_rubric.push('Экономика');\n",
      "                _dlData.custom_theme = 'Нобелевская премия';\n",
      "        \n",
      "    window.dataLayer = window.dataLayer || [];\n",
      "    window.dataLayer.push(_dlData);\n",
      "</script>\n",
      "                                        <div class=\"share-mobile\">\n",
      "                        <nav class=\"nav-share\">\n",
      "    <ul class=\"social-likes\">\n",
      "\t\t<li class=\"facebook\"></li>\n",
      "\t\t<li class=\"twitter\"></li>\n",
      "\t\t<li class=\"vkontakte\"></li>\n",
      "\t\t<li class=\"odnoklassniki\"></li>\n",
      "    </ul>\n",
      "</nav>\n",
      "                    </div>\n",
      "\n",
      "                    <header class=\"hero hero-lite\">\n",
      "                        <div>\n",
      "                            <h1>Премию Нобеля по экономике присудили за исследования экономики труда и причинно-следственных связей</h1>\n",
      "                        </div>\n",
      "                    </header>\n",
      "                                        <div class=\"body js-mediator-article\">\n",
      "                                                                                                                            <div class=\"article-image\">\n",
      "                            <figure>\n",
      "                                <img src=\"https://nplus1.ru/images/2021/10/11/9c6bcb5f7c01c6d88d49410e16ebc003.jpg\"/>\n",
      "                                                                                            </figure>\n",
      "                        </div>\n",
      "                                                \n",
      "                                                    <!-- -->\n",
      "                                                        <!-- -->\n",
      "                            \n",
      "                                                                                            <p>Премия Шведского национального банка по&nbsp;экономическим наукам памяти Альфреда Нобеля за&nbsp;2021 год присуждена Дэвиду Карду (David Card) за его вклад в эмпирические исследования экономики рынка труда, а также Джошуа Энгристу (Joshua Angrist) и Гвидо Имбенсу (Guido Imbens) за их вклад в методологию анализа причинно-следственных связей. Прямая трансляция церемонии объявления лауреатов <a href=\"https://www.nobelprize.org/\" target=\"_blank\">шла</a>&nbsp;на&nbsp;официальном сайте Нобелевской премии.</p>\n",
      "\n",
      "<div class=\"incut incut-gallery \" data-id=\"30917\">\n",
      "    <div class=\"swiper-container\">\n",
      "        <div class=\"swiper-wrapper\">\n",
      "                        <div class=\"swiper-slide\">\n",
      "                <figure>\n",
      "                    <div class=\"img\">\n",
      "                        <img src=\"https://nplus1.ru/images/2021/10/11/b7a9e42f1e5ee878f1d7c50e01bdbe84.jpg\"/>\n",
      "                    </div>\n",
      "                    <figcaption>\n",
      "                    <p class=\"title\">Слева направо: Дэвид Карт, Джошуа Энгрист и Гвидо Имбенс.</p>\n",
      "\n",
      "                                            \t    <p class=\"credits\">Niklas Elmehed © Nobel Prize Outreach</p>\n",
      "                    \t\n",
      "                    </figcaption>\n",
      "                </figure>\n",
      "                <div class=\"share-incut\">\n",
      "<div class=\"title\"><i class=\"fa fa-share\"></i><span>Поделиться</span></div>\n",
      "<nav class=\"nav-share\">\n",
      "    <ul class=\"social-likes\" data-title=\"Премию Нобеля по экономике присудили за исследования экономики труда и причинно-следственных связей\">\n",
      "\t\t<li class=\"facebook\" data-service='facebook' data-image='https://nplus1.ru/images/2021/10/11/b7a9e42f1e5ee878f1d7c50e01bdbe84.jpg', data-description='Niklas Elmehed &copy; Nobel Prize Outreach'></li>\n",
      "\t\t<li class=\"twitter\" data-service='twitter' data-image='https://nplus1.ru/images/2021/10/11/b7a9e42f1e5ee878f1d7c50e01bdbe84.jpg', data-description='Niklas Elmehed &copy; Nobel Prize Outreach'></li>\n",
      "\t\t<li class=\"vkontakte\" data-service='vkontakte' data-image='https://nplus1.ru/images/2021/10/11/b7a9e42f1e5ee878f1d7c50e01bdbe84.jpg', data-description='Niklas Elmehed &copy; Nobel Prize Outreach'></li>\n",
      "\t\t<li class=\"odnoklassniki\" data-service='odnoklassniki' data-image='https://nplus1.ru/images/2021/10/11/b7a9e42f1e5ee878f1d7c50e01bdbe84.jpg', data-description='Niklas Elmehed &copy; Nobel Prize Outreach'></li>\n",
      "            </ul>\n",
      "</nav>\n",
      "</div>\n",
      "            </div>\n",
      "                    </div>\n",
      "        <div class=\"pagination\">\n",
      "            <div class=\"swiper-button-prev\"></div>\n",
      "            <div class=\"swiper-counter\"></div>\n",
      "            <div class=\"swiper-button-next\"></div>\n",
      "        </div>\n",
      "    </div>\n",
      "</div>Премия по&nbsp;экономике, в&nbsp;отличие от&nbsp;Нобелевских премий по&nbsp;физиологии и&nbsp;медицине, физике, химии и&nbsp;литературе, а&nbsp;также премии мира, была учреждена не&nbsp;самим Альфредом Нобелем, а&nbsp;Банком Швеции в&nbsp;1968&nbsp;году. Ее&nbsp;размер равен размеру остальных премий.<p>Лауреаты этого года награждены за их исследования причинно-следственных связей в области социальных наук. В частности, Дэвид Кард из университета Калифорнии в Беркли начиная с 1990-х годов исследовал, как именно на рынок труда влияют изменения минимальных зарплат, уровень иммиграции и образовательный уровень населения. Полученные им результаты, в частности, указывали, что повышение уровня минимальных зарплат не обязательно влечет за собой сокращение количества рабочих мест.</p><p>Два других лауреата - Джошуа Ангрист из Массачусетского технологического института и Гвидо Имбенс из Стэнфордского университета исследовали, как можно установить наличие причинно-следственных связей в естественных экспериментах, связанных с поисками отношения между уровнем образования и доходами.</p><p>Компания Clarivate, которая составляет списки потенциальных нобелевских лауреатов на&nbsp;основе наукометрических данных, в&nbsp;2021 году <a href=\"https://nplus1.ru/blog/2021/09/22/clarivate-prognosis-2021\" target=\"_blank\">предположила</a>, что в&nbsp;экономической номинации премию могут присудить Дэвиду Одречу (David Audretsch) и&nbsp;Дэвиду Тису (David Teece) за&nbsp;исследование инноваций.</p>\n",
      "\n",
      "<p>Кроме того, в&nbsp;списке этого года были Джоэл Мокир (Joel Mokyr), который исследует культурные истоки промышленной революции, а&nbsp;также Кармен Рейнхарт (Carmen Reinhart) и&nbsp;Кеннет Рогофф (Kenneth Rogoff)&nbsp;— авторы гипотезы «90-процентного порога»., согласно которой, когда внешний долг государства достигает 90&nbsp;процентов от&nbsp;ВВП, скорость роста ВВП падает вдвое.</p>\n",
      "\n",
      "<p>В&nbsp;2020 году премию по&nbsp;экономике присудили Полу Милгрому и&nbsp;Роберту Уилсону за&nbsp;развитие теории аукционов и&nbsp;изобретение новых форматов аукционов. Лауреаты исследовали, как работают аукционы, и&nbsp;разрабатывали новые форматы проведения аукционов для продажи товаров и&nbsp;услуг, которые трудно продавать с&nbsp;помощью традиционных методов. Читайте об&nbsp;их&nbsp;работах в&nbsp;нашем материале <a href=\"https://nplus1.ru/material/2020/10/13/nobel-econ-2020\" target=\"_blank\">«Тонкости молотка»</a>.</p>\n",
      "\n",
      "<p>В 2019 году премии памяти Нобеля по&nbsp;экономике были удостоены Абхиджит Банерджи, Эстер Дюфло и&nbsp;Майкл Кремер&nbsp;— «за&nbsp;экспериментальный подход к&nbsp;искоренению глобальной бедности». Подробнее о&nbsp;заслугах лауреатов можно прочесть в&nbsp;нашем материале&nbsp;<a href=\"https://nplus1.ru/material/2019/10/14/nobeleconomic\" target=\"_blank\" title=\"Link: https://nplus1.ru/material/2019/10/14/nobeleconomic\">«Опыты на&nbsp;бедных»</a>. В&nbsp;2018 года награда была присуждена Уильяму Нордхаусу за&nbsp;«интеграцию изменения климата в&nbsp;долгосрочный макроэкономический анализ» и&nbsp;Полу Ромеру за&nbsp;«интеграцию технологических инноваций в&nbsp;долгосрочный макроэкономический анализ». Об&nbsp;их&nbsp;работах можно прочитать в&nbsp;материале <a href=\"https://nplus1.ru/material/2018/10/08/econobel-2018\" target=\"_blank\">«Почем знания для природы»</a>.</p>\n",
      "\n",
      "<p><i>Сергей Кузнецов</i></p>\n",
      "                            \n",
      "                            \n",
      "                                                \n",
      "                        \n",
      "                                            </div>\n",
      "                </article>\n",
      "\n",
      "                \n",
      "\t\t\t\t    <!-- ba1 -->\n",
      "<!--AdFox START-->\n",
      "<!--nplus1_dir-->\n",
      "<!--Площадка: https://nplus1.ru/ / * / *-->\n",
      "<!--Тип баннера: CLICKIO html5-->\n",
      "<!--Расположение: мобильный-->\n",
      "<div id=\"adfox_155980540701252236\"></div>\n",
      "<script>\n",
      "    window.Ya.adfoxCode.createAdaptive({\n",
      "        ownerId: 248569,\n",
      "        containerId: 'adfox_155980540701252236',\n",
      "        params: {\n",
      "            pp: 'ssg',\n",
      "            ps: 'cggm',\n",
      "            p2: 'fpum',\n",
      "            puid1: ''\n",
      "        }\n",
      "    }, ['phone'], {\n",
      "        tabletWidth: 1024,\n",
      "        phoneWidth: 767,\n",
      "        isAutoReloads: false\n",
      "    });\n",
      "</script>\n",
      "\n",
      "\n",
      "\t\t                <meter class=\"bottom\"></meter>\n",
      "            </div>\n",
      "            <div class=\"col col-1 sidebar\" data-adaptive=\"1\" data-tablet-class=\"col-full\">\n",
      "                                <nav class=\"nav-share\">\n",
      "    <ul class=\"social-likes\">\n",
      "\t\t<li class=\"facebook\"></li>\n",
      "\t\t<li class=\"twitter\"></li>\n",
      "\t\t<li class=\"vkontakte\"></li>\n",
      "\t\t<li class=\"odnoklassniki\"></li>\n",
      "    </ul>\n",
      "</nav>\n",
      "                \n",
      "                                <div class=\"ad\">\n",
      "                                                                \t                            \t<!-- ba2 -->\n",
      "<!--AdFox START-->\n",
      "<!--nplus1_dir-->\n",
      "<!--Площадка: https://nplus1.ru/ / * / *-->\n",
      "<!--Тип баннера: CLICKIO html5-->\n",
      "<!--Расположение: <верх страницы>-->\n",
      "<div id=\"adfox_153934342663011746\"></div>\n",
      "<script>\n",
      "    (function(w, n) {\n",
      "    w[n] = w[n] || [];\n",
      "    w[n].push({\n",
      "        ownerId: 248569,\n",
      "        containerId: 'adfox_153934342663011746',\n",
      "        params: {\n",
      "            pp: 'g',\n",
      "            ps: 'cggm',\n",
      "            p2: 'fpum',\n",
      "            puid1: ''\n",
      "        }\n",
      "    });})(window, 'adfoxAsyncParams');\n",
      "</script>\n",
      "\n",
      "\t\n",
      "                    \t                                                                </div>\n",
      "                \n",
      "\t\t\t\t\n",
      "                <meter class=\"top\"></meter>\n",
      "                    \n",
      "\n",
      "\n",
      "\n",
      "                    <div id=\"latest\" data-adaptive=\"1\" data-tablet-class=\"fixed\" data-mobile-class=\"fixed\">\n",
      "\n",
      "                        <h2 class=\"_tablet-hidden _mobile-hidden\">Свежее</h2>\n",
      "                        <div class=\"latest-container\">\n",
      "                        <article class=\"item item-news item-news-latest-first  _exist-image\" data-relevance=\"\" data-image=\"\" >\n",
      "\n",
      "    <a href=\"/news/2022/02/27/erosita-shutdown\" data-id=\"32404\" >\n",
      "        <div class=\"caption\">\n",
      "                                                                    \t                \t\t<img src=\"https://nplus1.ru/images/2022/02/27/301cc742f59e71484ea0df47d46730a5.jpg\"/>\n",
      "                \t                                \n",
      "                \n",
      "                                \n",
      "                                    <div>\n",
      "                        <div class=\"date\">\n",
      "                            <span class=\"name\" title=\"2022-02-27\">00:56</span>\n",
      "                        </div>\n",
      "                        <h3>Германские ученые отключили свой телескоп на борту обсерватории &laquo;Спектр-РГ&raquo;</h3>\n",
      "                    </div>\n",
      "                                \n",
      "                \n",
      "                \n",
      "                \n",
      "                \n",
      "                                                </div>\n",
      "    </a>\n",
      "    </article>                                                                                <article class=\"item item-news item-news-  _exist-image\" data-relevance=\"\" data-image=\"\" >\n",
      "\n",
      "    <a href=\"/news/2022/02/26/jwst-position\" data-id=\"32402\" >\n",
      "        <div class=\"caption\">\n",
      "                                                                    \n",
      "                \n",
      "                                <div class=\"date\">\n",
      "                    <span class=\"name\" title=\"2022-02-26\">вчера</span>\n",
      "                </div>\n",
      "                                \n",
      "                                    <h3>Телескоп &laquo;Джеймс Уэбб&raquo; превратил 18 изображений звезды в одно</h3>\n",
      "                                \n",
      "                \n",
      "                \n",
      "                \n",
      "                \n",
      "                                                </div>\n",
      "    </a>\n",
      "    </article>                                                        <article class=\"item item-news item-news-  _exist-image\" data-relevance=\"\" data-image=\"\" >\n",
      "\n",
      "    <a href=\"/news/2022/02/26/souyz-kourou\" data-id=\"32401\" >\n",
      "        <div class=\"caption\">\n",
      "                                                                    \n",
      "                \n",
      "                                <div class=\"date\">\n",
      "                    <span class=\"name\" title=\"2022-02-26\">вчера</span>\n",
      "                </div>\n",
      "                                \n",
      "                                    <h3>&laquo;Роскосмос&raquo; приостановил пуски &laquo;Союзов&raquo; с космодрома Куру</h3>\n",
      "                                \n",
      "                \n",
      "                \n",
      "                \n",
      "                \n",
      "                                                </div>\n",
      "    </a>\n",
      "    </article>                                                        <article class=\"item item-news item-news-  _exist-image\" data-relevance=\"\" data-image=\"\" >\n",
      "\n",
      "    <a href=\"/news/2022/02/26/maxi-j1820-070\" data-id=\"32399\" >\n",
      "        <div class=\"caption\">\n",
      "                                                                    \n",
      "                \n",
      "                                <div class=\"date\">\n",
      "                    <span class=\"name\" title=\"2022-02-26\">вчера</span>\n",
      "                </div>\n",
      "                                \n",
      "                                    <h3>Астрономы отыскали лежащую на боку черную дыру в двойной рентгеновской системе</h3>\n",
      "                                \n",
      "                \n",
      "                \n",
      "                \n",
      "                \n",
      "                                                </div>\n",
      "    </a>\n",
      "    </article>                                                        <article class=\"item item-news item-news-  _exist-image\" data-relevance=\"\" data-image=\"\" >\n",
      "\n",
      "    <a href=\"/news/2022/02/25/ceres-urvara\" data-id=\"32389\" >\n",
      "        <div class=\"caption\">\n",
      "                                                                    \n",
      "                \n",
      "                                <div class=\"date\">\n",
      "                    <span class=\"name\" title=\"2022-02-25\">25 февраля</span>\n",
      "                </div>\n",
      "                                \n",
      "                                    <h3>Станция Dawn нашла остатки рассола и органику в третьем по величине кратере Цереры</h3>\n",
      "                                \n",
      "                \n",
      "                \n",
      "                \n",
      "                \n",
      "                                                </div>\n",
      "    </a>\n",
      "    </article>                                                </div>\n",
      "\n",
      "\n",
      "\n",
      "\n",
      "\n",
      "\n",
      "                    </div>\n",
      "\n",
      "                    \n",
      "\n",
      "                </div>\n",
      "                                \n",
      "                <footer class=\"article-footer\">\n",
      "                    <div class=\"row\">\n",
      "                        <div class=\"col col-3\" data-adaptive=\"1\" data-mobile-class=\"col-1\">\n",
      "                            <p>Нашли опечатку? Выделите фрагмент и нажмите Ctrl+Enter.</p>\n",
      "                        </div>\n",
      "                        <div class=\"col col-1 _mobile-hidden _tablet-hidden\">\n",
      "                            <nav class=\"nav-share\">\n",
      "    <ul class=\"social-likes\">\n",
      "\t\t<li class=\"facebook\"></li>\n",
      "\t\t<li class=\"twitter\"></li>\n",
      "\t\t<li class=\"vkontakte\"></li>\n",
      "\t\t<li class=\"odnoklassniki\"></li>\n",
      "    </ul>\n",
      "</nav>\n",
      "                        </div>\n",
      "                    </div>\n",
      "                </footer>\n",
      "\n",
      "                <div class=\"ad ad-footer\">\n",
      "                    \t\t\t                                                                                        </div>\n",
      "                \n",
      "                \n",
      "            </div>\n",
      "\n",
      "                                        \n",
      "            <div class=\"row row-wrap\">\n",
      "                            </div>\n",
      "            <div class=\"row row-wrap\">\n",
      "                <div class=\"col col-full\" data-adaptive=\"1\"  data-mobile-class=\"col-1\">\n",
      "                                        \n",
      "                                    </div>\n",
      "            </div>\n",
      "            <div class=\"row\" data-adaptive=\"1\" data-tablet-class=\"row-wrap\" data-mobile-class=\"row-wrap\" data-type=\"also\">\n",
      "                <div class=\"col col-3\" data-adaptive=\"1\" data-mobile-class=\"col-1\">\n",
      "                    \n",
      "                                        <section id=\"also\">\n",
      "                                                <h4 class=\"pull-left\">Читайте также</h4>\n",
      "                        <div class=\"col col-also\">\n",
      "                                                            <article class=\"item item-news item-news-ill  _exist-image\" data-relevance=\"\" data-image=\"\" >\n",
      "\n",
      "    <a href=\"/news/2022/02/25/hydrocopter\" data-id=\"32388\" >\n",
      "        <div class=\"caption\">\n",
      "                            <div style=\"background-image:url(https://nplus1.ru/images/2022/02/24/0c1a14ba2cad7cd3c5bf4ca808c59a4c.gif)\" class=\"ill\"></div>\n",
      "                                                                    \n",
      "                \n",
      "                                \n",
      "                                    <h3>Британцы испытали гидравлический мультикоптер</h3>\n",
      "                                \n",
      "                \n",
      "                \n",
      "                \n",
      "                \n",
      "                                                </div>\n",
      "    </a>\n",
      "    </article>                                                            <article class=\"item item-news item-news-ill  _exist-image\" data-relevance=\"\" data-image=\"\" >\n",
      "\n",
      "    <a href=\"/news/2022/02/25/largest-bacterium\" data-id=\"32395\" >\n",
      "        <div class=\"caption\">\n",
      "                            <div style=\"background-image:url(https://nplus1.ru/images/2022/02/25/b4bc3771ec41d119fb5e61b866f185e7.jpg)\" class=\"ill\"></div>\n",
      "                                                                    \n",
      "                \n",
      "                                \n",
      "                                    <h3>Биологи описали самую крупную бактерию. Она может достигать двух сантиметров в длину</h3>\n",
      "                                \n",
      "                \n",
      "                \n",
      "                \n",
      "                \n",
      "                                                </div>\n",
      "    </a>\n",
      "    </article>                                                            <article class=\"item item-news item-news-ill  _exist-image\" data-relevance=\"\" data-image=\"\" >\n",
      "\n",
      "    <a href=\"/news/2022/02/23/last-cretaceous-spring\" data-id=\"32378\" >\n",
      "        <div class=\"caption\">\n",
      "                            <div style=\"background-image:url(https://nplus1.ru/images/2022/02/23/b23f866c1c18346135dca30f8730e9fe.jpg)\" class=\"ill\"></div>\n",
      "                                                                    \n",
      "                \n",
      "                                \n",
      "                                    <h3>&laquo;Динозавровый&raquo; астероид упал весной</h3>\n",
      "                                \n",
      "                \n",
      "                \n",
      "                \n",
      "                \n",
      "                                                </div>\n",
      "    </a>\n",
      "    </article>                                                    </div>\n",
      "\n",
      "                    </section>\n",
      "                                    </div>\n",
      "                <div class=\"col col-1\" data-adaptive=\"1\" data-tablet-class=\"col-full _indent-bottom\">\n",
      "                    <section id=\"next\">\n",
      "                        <div class=\"col col-1\" data-adaptive=\"1\" data-tablet-class=\"col-2\">\n",
      "                                                        <article class=\"item item-article item-article-secondary  _exist-image\" data-relevance=\"\" data-image=\"https://nplus1.ru/images/2022/02/24/428e45e617cd51f80b6e7d8a0986bf24.jpg\" style=background-image:url(https://nplus1.ru/images/2022/02/22/af6cc5ed6058f646a14fd4006a50e687.jpg)>\n",
      "\n",
      "    <a href=\"/material/2022/02/23/slipping-stones\" data-id=\"32376\" >\n",
      "        <div class=\"caption\">\n",
      "                                                                                    <h3>Скользкая тема</h3>\n",
      "                    <p class=\"subtitle\">Чего физика не понимает в керлинге</p>\n",
      "                                    </div>\n",
      "    </a>\n",
      "        <nav class=\"nav-rubricator\">\n",
      "        <ul>\n",
      "            \n",
      "                        <li>\n",
      "                <a class=\"link-rubric\" href=\"/rubric/physics\">Физика</a>\n",
      "            </li>\n",
      "                                    <li>\n",
      "                <a class=\"link-theme\" href=\"/theme/sci-sport\">Спортивная наука</a>\n",
      "            </li>\n",
      "                    </ul>\n",
      "    </nav>\n",
      "    </article>                                                    </div>\n",
      "                    </section>\n",
      "                </div>\n",
      "            </div>\n",
      "        </div>\n",
      "    <!--/div-->\n",
      "    \n",
      "    <div id=\"_mistake\">\n",
      "        <input type=\"hidden\" name=\"_token\" value=\"TZYQFJZp7quWdoFD1MroF3DO21UWhCrOX4NKYt4k\">\n",
      "        <input type=\"hidden\" name=\"id_news\" value=\"30917\">\n",
      "        <input type=\"hidden\" name=\"id_author\" value=\"120\">\n",
      "        <input type=\"hidden\" name=\"id_editor\" value=\"0\">\n",
      "    </div>\n",
      "    <div id=\"_post\">\n",
      "        <input type=\"hidden\" name=\"_token\" value=\"TZYQFJZp7quWdoFD1MroF3DO21UWhCrOX4NKYt4k\">\n",
      "        <input type=\"hidden\" name=\"id_news\" value=\"30917\">\n",
      "    </div>\n",
      "            </section>\n",
      "            <!-- / main section -->\n",
      "            \n",
      "\n",
      "            <div id=\"wrapper-footer\">\n",
      "            <section id=\"difficult\" class=\"_middle\">\n",
      "    <!-- Slider main container -->\n",
      "    <div class=\"swiper-container\">\n",
      "        <!-- Additional required wrapper -->\n",
      "        <div class=\"swiper-wrapper\">\n",
      "                        <div class=\"swiper-slide\">\n",
      "                <div class=\"heading\">\n",
      "                    <div class=\"num\">\n",
      "                        <div class=\"value\">6.9</div>\n",
      "                    </div>\n",
      "                    <p>Коэффициент сложности</p>\n",
      "                </div>\n",
      "                <h3><a href=\"/material/2022/02/23/slipping-stones\">Скользкая тема</a></h3>\n",
      "            </div>\n",
      "                        <div class=\"swiper-slide\">\n",
      "                <div class=\"heading\">\n",
      "                    <div class=\"num\">\n",
      "                        <div class=\"value\">6.2</div>\n",
      "                    </div>\n",
      "                    <p>Коэффициент сложности</p>\n",
      "                </div>\n",
      "                <h3><a href=\"/news/2022/02/21/analog-equation-solver\">Метаматериалы помогут решать уравнения со скоростью света</a></h3>\n",
      "            </div>\n",
      "                        <div class=\"swiper-slide\">\n",
      "                <div class=\"heading\">\n",
      "                    <div class=\"num\">\n",
      "                        <div class=\"value\">5.9</div>\n",
      "                    </div>\n",
      "                    <p>Коэффициент сложности</p>\n",
      "                </div>\n",
      "                <h3><a href=\"/material/2022/02/21/burning-and-heating\">Игра на понижение</a></h3>\n",
      "            </div>\n",
      "                        <div class=\"swiper-slide\">\n",
      "                <div class=\"heading\">\n",
      "                    <div class=\"num\">\n",
      "                        <div class=\"value\">5.5</div>\n",
      "                    </div>\n",
      "                    <p>Коэффициент сложности</p>\n",
      "                </div>\n",
      "                <h3><a href=\"/news/2022/02/25/gravimetr-found-tunnel\">Переносной атомный гравиметр увидел в городе подземный тоннель </a></h3>\n",
      "            </div>\n",
      "                        <div class=\"swiper-slide\">\n",
      "                <div class=\"heading\">\n",
      "                    <div class=\"num\">\n",
      "                        <div class=\"value\">5.4</div>\n",
      "                    </div>\n",
      "                    <p>Коэффициент сложности</p>\n",
      "                </div>\n",
      "                <h3><a href=\"/news/2022/02/22/QRate-Mostcom-Mtuci\">Российские физики передали квантовый сигнал между зданиями по воздуху</a></h3>\n",
      "            </div>\n",
      "                        <div class=\"swiper-slide\">\n",
      "                <div class=\"heading\">\n",
      "                    <div class=\"num\">\n",
      "                        <div class=\"value\">5.1</div>\n",
      "                    </div>\n",
      "                    <p>Коэффициент сложности</p>\n",
      "                </div>\n",
      "                <h3><a href=\"/news/2022/02/24/thrombosis-hypothesis\">Немецкие биологи предложили альтернативный механизм тромбоза после векторных вакцин</a></h3>\n",
      "            </div>\n",
      "                        <div class=\"swiper-slide\">\n",
      "                <div class=\"heading\">\n",
      "                    <div class=\"num\">\n",
      "                        <div class=\"value\">5.1</div>\n",
      "                    </div>\n",
      "                    <p>Коэффициент сложности</p>\n",
      "                </div>\n",
      "                <h3><a href=\"/news/2022/02/22/wasp-121-b\">&laquo;Хаббл&raquo; измерил температуру ночной стратосферы ультрагорячего юпитера </a></h3>\n",
      "            </div>\n",
      "                        <div class=\"swiper-slide\">\n",
      "                <div class=\"heading\">\n",
      "                    <div class=\"num\">\n",
      "                        <div class=\"value\">4.9</div>\n",
      "                    </div>\n",
      "                    <p>Коэффициент сложности</p>\n",
      "                </div>\n",
      "                <h3><a href=\"/news/2022/02/25/ceres-urvara\">Станция Dawn нашла остатки рассола и органику в третьем по величине кратере Цереры</a></h3>\n",
      "            </div>\n",
      "                        <div class=\"swiper-slide\">\n",
      "                <div class=\"heading\">\n",
      "                    <div class=\"num\">\n",
      "                        <div class=\"value\">4.9</div>\n",
      "                    </div>\n",
      "                    <p>Коэффициент сложности</p>\n",
      "                </div>\n",
      "                <h3><a href=\"/news/2022/02/23/ancient-galaxy-milky-way\">Вычисления на компьютерах добровольцев помогли взвесить разрушенную Млечным Путем галактику</a></h3>\n",
      "            </div>\n",
      "                        <div class=\"swiper-slide\">\n",
      "                <div class=\"heading\">\n",
      "                    <div class=\"num\">\n",
      "                        <div class=\"value\">4.9</div>\n",
      "                    </div>\n",
      "                    <p>Коэффициент сложности</p>\n",
      "                </div>\n",
      "                <h3><a href=\"/news/2022/02/21/acoustic-BIC\">Российские физики описали акустический резонатор с незатухающими модами</a></h3>\n",
      "            </div>\n",
      "                        \n",
      "        </div>\n",
      "        <!-- If we need pagination -->\n",
      "        <div class=\"swiper-pagination\"></div>\n",
      "        <div class=\"swiper-button-prev\"></div>\n",
      "        <div class=\"swiper-button-next\"></div>\n",
      "    </div>\n",
      "    <h6>Самое сложное</h6>\n",
      "</section>\n",
      "\n",
      "\n",
      "            <div class=\"ad ad-col border\">\n",
      "                    \t    </div>\n",
      "\n",
      "            <!-- footer -->\n",
      "            <footer id=\"footer\">\n",
      "    <div class=\"row\" data-adaptive=\"1\" data-middle-class=\"row-wrap\" data-tablet-class=\"row-wrap\" data-mobile-class=\"row-wrap\">\n",
      "        <div class=\"col col-logo\">\n",
      "            <a href=\"/\" class=\"link-logo\"><img src=\"/i/logo-alt.png\"/></a>\n",
      "        </div>\n",
      "        <div class=\"col col-footer-desc\">\n",
      "            <nav class=\"nav-pages\">\n",
      "                <ul>\n",
      "                    <li>\n",
      "                        <a href=\"/about\">О нас</a>\n",
      "                    </li>\n",
      "                    <li>\n",
      "                        <a href=\"https://nplus.pro\" target=\"_blank\">N + Production</a>\n",
      "                    </li>\n",
      "                    <li>\n",
      "                        <a href=\"/adv\">Рекламодателям</a>\n",
      "                    </li>\n",
      "                    <li>\n",
      "                        <a href=\"/rules\">Наши материалы</a>\n",
      "                    </li>\n",
      "                    <li>\n",
      "                        <a href=\"/vacancy\">Вакансии</a>\n",
      "                    </li>\n",
      "                    <li>\n",
      "                        <a href=\"/difficult\">Сложность</a>\n",
      "                    </li>\n",
      "                </ul>\n",
      "            </nav>\n",
      "            <div class=\"desc\">\n",
      "                <p>&copy; 2022 <i>N&nbsp;+&nbsp;1</i> Интернет-издание &nbsp; Свидетельство о регистрации СМИ Эл № ФС77-67614</p>\n",
      "                                \n",
      "                    <p>Использование всех текстовых материалов без изменений в некоммерческих целях разрешается со ссылкой на <i>N&nbsp;+&nbsp;1</i>. \n",
      "                        Все аудиовизуальные произведения являются собственностью своих авторов и правообладателей и используются \n",
      "                        только в образовательных и информационных целях. Если вы являетесь собственником того или иного произведения \n",
      "                        и не согласны с его размещением на нашем сайте, пожалуйста, напишите на kirill@nplus1.ru</p>\n",
      "                    <p>Материалы, опубликованные в разделе «Блоги», отражают позиции их авторов, которые могут не совпадать с мнением редакции.</p>\n",
      "                    <p>Сайт может содержать контент, не предназначенный для лиц младше 18 лет.</p>\n",
      "                    <p>Связь с редакцией: <a href=\"mailto:info@nplus1.ru\">info@nplus1.ru</a></p>\n",
      "                    <p>\n",
      "                        <a href=\"https://nplus1.ru/personal-data-policy\" class=\"pd\">Политика обработки персональных данных пользователей сайта</a>\n",
      "                    </p>\n",
      "                    <p>\n",
      "                        <script async type=\"text/javascript\" src=\"//s.luxupcdnc.com/t/consent_195458.js\"></script> \n",
      "                        <a href=\"#\" onclick=\"if(window.__lxG__consent__ !== undefined) {window.__lxG__consent__.showConsent()} else {alert('This function works only for users from the European Economic Area (EEA).')}; return false\">Change privacy settings</a>\n",
      "                    </p>\n",
      "                \n",
      "                <p>\n",
      "                                    </p>\n",
      "            </div>\n",
      "        </div>\n",
      "        <div class=\"col col-1 pull-right\">\n",
      "            <nav class=\"nav-social\">\n",
      "                <ul>\n",
      "                    <li>\n",
      "                        <a href=\"https://t.me/nplusone\"><i class=\"fa fa-telegram\"></i></a>\n",
      "                    </li>\n",
      "                    <li>\n",
      "                        <a href=\"http://vk.com/nplusone\"><i class=\"fa fa-vk\"></i></a>\n",
      "                    </li>\n",
      "                    <li>\n",
      "                        <a href=\"https://www.facebook.com/nplusone\"><i class=\"fa fa-facebook\"></i></a>\n",
      "                    </li>\n",
      "                    <li>\n",
      "                        <a href=\"https://twitter.com/nplusodin\"><i class=\"fa fa-twitter\"></i></a>\n",
      "                    </li>\n",
      "                    <li>\n",
      "                        <a href=\"https://ok.ru/nplus1\"><i class=\"fa fa-odnoklassniki\"></i></a>\n",
      "                    </li>\n",
      "                    <li>\n",
      "                        <a href=\"https://soundcloud.com/nplus_1\"><i class=\"fa fa-soundcloud\"></i></a>\n",
      "                    </li>\n",
      "                    <li>\n",
      "                        <a href=\"/rss\"><i class=\"fa fa-rss\"></i></a>\n",
      "                    </li>\n",
      "                </ul>\n",
      "            </nav>\n",
      "            <div class=\"partners\">\n",
      "                \t\t\t\t\t\t\t\t\t\t\t\t\n",
      "\t\t\t\t\n",
      "                <!-- Rating@Mail.ru counter -->\n",
      "<script type=\"text/javascript\">\n",
      "var _tmr = window._tmr || (window._tmr = []);\n",
      "_tmr.push({id: \"3084572\", type: \"pageView\", start: (new Date()).getTime()});\n",
      "(function (d, w, id) {\n",
      "  if (d.getElementById(id)) return;\n",
      "  var ts = d.createElement(\"script\"); ts.type = \"text/javascript\"; ts.async = true; ts.id = id;\n",
      "  ts.src = \"https://top-fwz1.mail.ru/js/code.js\";\n",
      "  var f = function () {var s = d.getElementsByTagName(\"script\")[0]; s.parentNode.insertBefore(ts, s);};\n",
      "  if (w.opera == \"[object Opera]\") { d.addEventListener(\"DOMContentLoaded\", f, false); } else { f(); }\n",
      "})(document, window, \"topmailru-code\");\n",
      "</script><noscript><div>\n",
      "<img src=\"https://top-fwz1.mail.ru/counter?id=3084572;js=na\" style=\"border:0;position:absolute;left:-9999px;\" alt=\"Top.Mail.Ru\" />\n",
      "</div></noscript>\n",
      "<!-- //Rating@Mail.ru counter -->\n",
      "\n",
      "\n",
      "\n",
      "            </div>\n",
      "        </div>\n",
      "    </div>\n",
      "</footer>            <!-- / footer -->\n",
      "            </div>\n",
      "        </div>\n",
      "    \n",
      "    </div>\n",
      "    \n",
      "\n",
      "<!-- Google Tag Manager -->\n",
      "<script>(function(w,d,s,l,i){w[l]=w[l]||[];w[l].push({'gtm.start':\n",
      "new Date().getTime(),event:'gtm.js'});var f=d.getElementsByTagName(s)[0],\n",
      "j=d.createElement(s),dl=l!='dataLayer'?'&l='+l:'';j.async=true;j.src=\n",
      "'https://www.googletagmanager.com/gtm.js?id='+i+dl;f.parentNode.insertBefore(j,f);\n",
      "})(window,document,'script','dataLayer','GTM-MNJC58');</script>\n",
      "<!-- End Google Tag Manager -->\n",
      "\n",
      "<!-- Google Tag Manager (noscript) -->\n",
      "<noscript><iframe src=\"https://www.googletagmanager.com/ns.html?id=GTM-MNJC58\"\n",
      "height=\"0\" width=\"0\" style=\"display:none;visibility:hidden\"></iframe></noscript>\n",
      "<!-- End Google Tag Manager (noscript) -->\n",
      "\n",
      "\n",
      "\n",
      "    <noscript><div><img src=\"//mc.yandex.ru/watch/29654565\" style=\"position:absolute; left:-9999px;\" alt=\"\" /></div></noscript>\n",
      "\t\t\n",
      "\t\n",
      "\t</div>\n",
      "\n",
      "\n",
      "\n",
      "<script src=\"/js/lib/js.cookie.js\"></script>\n",
      "<script src=\"/js/lib/jquery.swap.js\"></script>\n",
      "<script src=\"/js/lib/swiper.jquery.min.js\"></script>\n",
      "<script src=\"/js/lib/svg.js\"></script>\n",
      "<script src=\"/js/lib/jquery.mobile-events.min.js\"></script>\n",
      "<script src=\"/js/lib/social-likes.min.js\"></script>\n",
      "<script src=\"/js/lib/jquery.sticky.js\"></script>\n",
      "<script src=\"/js/tests/scopus/js/bundle.js\"></script>\n",
      "\n",
      "\n",
      "\n",
      "<script src=\"/js/lib/ts.js\"></script>\n",
      "<script src=\"/js/lib/js.cookie.js\"></script>\n",
      "\n",
      "\n",
      "<script async src=\"https://cdn.onthe.io/io.js/QCyUUwp6IVuR\"></script>\n",
      "<script>\n",
      "window._io_config = window._io_config || {};\n",
      "window._io_config[\"0.2.0\"] = window._io_config[\"0.2.0\"] || [];\n",
      "window._io_config[\"0.2.0\"].push({\n",
      "    page_url: document.location.toString(),\n",
      "    page_url_canonical: document.querySelector('link[rel=\"canonical\"]').href,\n",
      "    page_title: document.querySelector('title').innerHTML,\n",
      "    page_type: \"article\",\n",
      "    page_language: \"ru\",\n",
      "    article_authors: [document.querySelector('meta[name=\"author\"]').content || ''],\n",
      "    article_publication_date: (new Date(document.querySelector('meta[itemprop=\"datePublished\"]').content).toUTCString()).toString()\n",
      "});\n",
      "</script>\n",
      "\n",
      "<!--   project scripts -->\n",
      "<script src=\"/js/main.min.js?v=1643976149\"></script>\n",
      "<!-- / project scripts -->\n",
      "\n",
      "\n",
      "\n",
      "\n",
      "<!-- Quantcast Tag -->\n",
      "<script type=\"text/javascript\">\n",
      "var _qevents = _qevents || [];\n",
      "\n",
      "(function() {\n",
      "var elem = document.createElement('script');\n",
      "elem.src = (document.location.protocol == \"https:\" ? \"https://secure\" : \"http://edge\") + \".quantserve.com/quant.js\";\n",
      "elem.async = true;\n",
      "elem.type = \"text/javascript\";\n",
      "var scpt = document.getElementsByTagName('script')[0];\n",
      "scpt.parentNode.insertBefore(elem, scpt);\n",
      "})();\n",
      "\n",
      "_qevents.push({\n",
      "qacct:\"p-s3ftDEFzEW5x7\"\n",
      "});\n",
      "</script>\n",
      "\n",
      "<noscript>\n",
      "<div style=\"display:none;\">\n",
      "<img src=\"//pixel.quantserve.com/pixel/p-s3ftDEFzEW5x7.gif\" border=\"0\" height=\"1\" width=\"1\" alt=\"Quantcast\"/>\n",
      "</div>\n",
      "</noscript>\n",
      "<!-- End Quantcast tag -->\n",
      "</body>\n",
      "</html>\n"
     ]
    }
   ],
   "source": [
    "import requests # Импортируем библиотеку requests\n",
    "url = 'https://nplus1.ru/news/2021/10/11/econobel2021' # Определяем адрес страницы\n",
    "response = requests.get(url)  # Выполняем GET-запрос\n",
    "print(response.text)  # Выводим содержимое атрибута text"
   ]
  },
  {
   "cell_type": "code",
   "execution_count": 34,
   "metadata": {},
   "outputs": [],
   "source": [
    "from bs4 import BeautifulSoup # Импортируем библиотеку BeautifulSoup"
   ]
  },
  {
   "cell_type": "code",
   "execution_count": 35,
   "metadata": {},
   "outputs": [
    {
     "name": "stdout",
     "output_type": "stream",
     "text": [
      "<title>Премию Нобеля по экономике присудили за исследования экономики труда и причинно-следственных связей</title>\n",
      "Премию Нобеля по экономике присудили за исследования экономики труда и причинно-следственных связей\n"
     ]
    }
   ],
   "source": [
    "import requests # Импортируем библиотеку requests\n",
    "from bs4 import BeautifulSoup # Импортируем библиотеку BeautifulSoup\n",
    "url = 'https://nplus1.ru/news/2021/10/11/econobel2021' # Определяем адрес страницы\n",
    "response = requests.get(url) # Выполняем GET-запрос, содержимое ответа присваивается переменной response\n",
    "page = BeautifulSoup(response.text, 'html.parser') # Создаём объект BeautifulSoup, указывая html-парсер\n",
    "print(page.title) # Получаем тег title, отображающийся на вкладке браузера\n",
    "print(page.title.text) # Выводим текст из полученного тега, который содержится в атрибуте text"
   ]
  },
  {
   "cell_type": "code",
   "execution_count": 36,
   "metadata": {},
   "outputs": [
    {
     "name": "stdout",
     "output_type": "stream",
     "text": [
      "Премию Нобеля по экономике присудили за исследования экономики труда и причинно-следственных связей\n"
     ]
    }
   ],
   "source": [
    "print(page.find('h1').text) # Применяем метод find() к объекту и выводим результат на экран"
   ]
  },
  {
   "cell_type": "code",
   "execution_count": 37,
   "metadata": {},
   "outputs": [
    {
     "name": "stdout",
     "output_type": "stream",
     "text": [
      "\n",
      "13:04\n",
      "11 Окт. 2021\n",
      "\n"
     ]
    }
   ],
   "source": [
    "print(page.find('time').text) # Выводим на экран содержимое атрибута text тега time"
   ]
  },
  {
   "cell_type": "code",
   "execution_count": 38,
   "metadata": {},
   "outputs": [
    {
     "data": {
      "text/plain": [
       "<function __main__.wiki_header(url)>"
      ]
     },
     "metadata": {},
     "output_type": "display_data"
    }
   ],
   "source": [
    "def wiki_header(url):\n",
    "    page=BeautifulSoup(requests.get(url).text,'html.parser')\n",
    "    header=page.find('h1').text\n",
    "    return header\n",
    "\n",
    "display(wiki_header)"
   ]
  },
  {
   "cell_type": "code",
   "execution_count": null,
   "metadata": {},
   "outputs": [],
   "source": [
    "print(page.find('div').text) # Выводим содержимое атрибута text тега div\n",
    "print(page.find('div', class_='body').text) # Выводим содержимое атрибута text тега div класса body js-mediator-article"
   ]
  },
  {
   "cell_type": "markdown",
   "metadata": {},
   "source": [
    "СБОР НЕСКОЛЬКИХ ЭЛЕМЕНТОВ: СОБИРАЕМ ВСЕ ССЫЛКИ НА СТРАНИЦЕ"
   ]
  },
  {
   "cell_type": "code",
   "execution_count": 42,
   "metadata": {},
   "outputs": [
    {
     "name": "stdout",
     "output_type": "stream",
     "text": [
      "<a id=\"top\"></a>\n"
     ]
    }
   ],
   "source": [
    "url = 'https://en.wikipedia.org/wiki/List_of_programming_languages' # Задаём адрес ресурса\n",
    "response = requests.get(url) # Делаем GET-запрос к ресурсу\n",
    "page = BeautifulSoup(response.text, 'html.parser') # Создаём объект BeautifulSoup\n",
    "print(page.find('a')) # Ищем ссылку по тегу <a> и выводим её на экран"
   ]
  },
  {
   "cell_type": "code",
   "execution_count": 43,
   "metadata": {},
   "outputs": [
    {
     "name": "stdout",
     "output_type": "stream",
     "text": [
      "905\n"
     ]
    }
   ],
   "source": [
    "links = page.find_all('a') # Ищем все ссылки на странице и сохраняем в переменной links в виде списка\n",
    "print(len(links)) # Выводим количество найденных ссылок"
   ]
  },
  {
   "cell_type": "code",
   "execution_count": 44,
   "metadata": {},
   "outputs": [
    {
     "name": "stdout",
     "output_type": "stream",
     "text": [
      "['PCF', 'PEARL', 'PeopleCode', 'Perl', 'PDL', 'Pharo', 'PHP', 'Pico', 'Picolisp', 'Pict']\n"
     ]
    }
   ],
   "source": [
    "print([link.text for link in links[500:510]]) # Выводим ссылки с 500 по 509 включительно"
   ]
  },
  {
   "cell_type": "code",
   "execution_count": 45,
   "metadata": {},
   "outputs": [
    {
     "name": "stdout",
     "output_type": "stream",
     "text": [
      "['', '', 'Jump to navigation', 'Jump to search', 'Programming languagelists', 'Alphabetical', 'Categorical', 'Chronological', 'Generational', 'v']\n"
     ]
    }
   ],
   "source": [
    "print([link.text for link in links[0:10]]) # Выводим ссылки с 1 по 9 включительно"
   ]
  },
  {
   "cell_type": "code",
   "execution_count": 48,
   "metadata": {},
   "outputs": [
    {
     "name": "stdout",
     "output_type": "stream",
     "text": [
      "{\"response\":[{\"id\":1,\"first_name\":\"Павел\",\"last_name\":\"Дуров\",\"can_access_closed\":true,\"is_closed\":false,\"sex\":2,\"bdate\":\"10.10.1984\"}]}\n"
     ]
    }
   ],
   "source": [
    "import requests # Импортируем модуль requests\n",
    "token = '72bd25cc6885e4d0fd20459d509fa86d63ee9867baaf8dc300c8398acd618ebe80e06da04488353d5e184' # Указываем свой сервисный токен\n",
    "url = 'https://api.vk.com/method/users.get' # Указываем адрес страницы к которой делаем запрос\n",
    "params = {'user_id': 1, 'v': 5.95, 'fields': 'sex,bdate', 'access_token': token, 'lang': 'ru'} # Перечисляем параметры нашего запроса в словаре params\n",
    "response = requests.get(url, params=params) # Отправляем запрос\n",
    "print(response.text) # Выводим текст ответа на экран"
   ]
  },
  {
   "cell_type": "code",
   "execution_count": 49,
   "metadata": {},
   "outputs": [
    {
     "name": "stdout",
     "output_type": "stream",
     "text": [
      "{'response': [{'bdate': '10.10.1984',\n",
      "               'can_access_closed': True,\n",
      "               'first_name': 'Павел',\n",
      "               'id': 1,\n",
      "               'is_closed': False,\n",
      "               'last_name': 'Дуров',\n",
      "               'sex': 2}]}\n"
     ]
    }
   ],
   "source": [
    "from pprint import pprint # Импортируем функцию pprint()\n",
    "pprint(response.json()) # Выводим содержимое словаря, содержащего ответ, на экран"
   ]
  },
  {
   "cell_type": "code",
   "execution_count": 50,
   "metadata": {},
   "outputs": [
    {
     "name": "stdout",
     "output_type": "stream",
     "text": [
      "10.10.1984\n"
     ]
    }
   ],
   "source": [
    "user = response.json()['response'][0] # Извлекаем из словаря по ключу response информацию о первом пользователе\n",
    "print(user['bdate']) # Выводим дату рождения первого пользователя на экран"
   ]
  },
  {
   "cell_type": "code",
   "execution_count": 51,
   "metadata": {},
   "outputs": [
    {
     "name": "stdout",
     "output_type": "stream",
     "text": [
      "{'response': [{'can_access_closed': True,\n",
      "               'first_name': 'Павел',\n",
      "               'id': 1,\n",
      "               'is_closed': False,\n",
      "               'last_name': 'Дуров'},\n",
      "              {'can_access_closed': False,\n",
      "               'first_name': 'Александра',\n",
      "               'id': 2,\n",
      "               'is_closed': True,\n",
      "               'last_name': 'Владимирова'},\n",
      "              {'deactivated': 'deleted',\n",
      "               'first_name': 'DELETED',\n",
      "               'id': 3,\n",
      "               'last_name': ''}]}\n"
     ]
    }
   ],
   "source": [
    "ids = \",\".join(map(str, range(1, 4))) # Формируем строку, содержащую информацию о поле id первых трёх пользователей\n",
    "params = {'user_ids': ids, 'v': 5.95, 'fields': 'bday', 'access_token': token, 'lang': 'ru'} # Формируем строку параметров\n",
    "pprint(requests.get(url, params=params).json()) # Посылаем запрос, полученный ответ в формате JSON-строки преобразуем в словарь и выводим на экран его содержимое, используя функцию pprint()"
   ]
  },
  {
   "cell_type": "code",
   "execution_count": 47,
   "metadata": {},
   "outputs": [
    {
     "name": "stdout",
     "output_type": "stream",
     "text": [
      "0.48\n"
     ]
    }
   ],
   "source": [
    "#определить соотношение мужчин и женьщин\n",
    "import requests\n",
    "token = '72bd25cc6885e4d0fd20459d509fa86d63ee9867baaf8dc300c8398acd618ebe80e06da04488353d5e184'\n",
    "url = 'https://api.vk.com/method/users.get'\n",
    "ids = \",\".join(map(str, range(1, 501)))\n",
    "params = {'user_ids': ids, 'v': 5.95, 'fields': 'sex,bdate', 'access_token': token, 'lang': 'ru'}\n",
    "response = requests.get(url, params=params).json()['response']\n",
    "men=women=0\n",
    "for elem in response:\n",
    "    if elem['sex'] == 2:\n",
    "        men+=1\n",
    "    elif elem['sex'] == 1:\n",
    "        women+=1\n",
    "    else:\n",
    "        continue\n",
    "print(round(women/(men+women),2))"
   ]
  },
  {
   "cell_type": "markdown",
   "metadata": {},
   "source": [
    "СБОР ИНФОРМАЦИИ ИЗ ГРУПП"
   ]
  },
  {
   "cell_type": "code",
   "execution_count": 53,
   "metadata": {},
   "outputs": [
    {
     "name": "stdout",
     "output_type": "stream",
     "text": [
      "{'response': {'count': 12328222, 'items': [6, 19, 47, 54, 79, 177, 198, 212, 219, 239, 243, 345, 407, 467, 485, 510, 550, 619, 640, 690, 702, 721, 804, 809, 831, 832, 834, 847, 900, 905, 907, 914, 943, 952, 958, 966, 976, 979, 1000, 1018, 1023, 1032, 1033, 1038, 1039, 1059, 1097, 1131, 1139, 1140, 1159, 1174, 1185, 1188, 1290, 1301, 1333, 1334, 1336, 1351, 1381, 1386, 1388, 1406, 1411, 1418, 1432, 1494, 1531, 1543, 1568, 1586, 1590, 1593, 1598, 1610, 1615, 1632, 1634, 1650, 1679, 1690, 1697, 1698, 1699, 1700, 1721, 1740, 1754, 1796, 1814, 1820, 1829, 1834, 1839, 1840, 1843, 1858, 1863, 1868, 1869, 1887, 1889, 1917, 1943, 1947, 1955, 1969, 2019, 2028, 2050, 2051, 2052, 2059, 2077, 2103, 2145, 2150, 2195, 2201, 2202, 2230, 2236, 2273, 2281, 2294, 2296, 2298, 2376, 2389, 2395, 2403, 2412, 2436, 2456, 2466, 2470, 2484, 2515, 2527, 2539, 2571, 2576, 2592, 2601, 2622, 2644, 2654, 2692, 2706, 2745, 2755, 2767, 2787, 2797, 2827, 2858, 2896, 2909, 2919, 2922, 2953, 2962, 2982, 3001, 3006, 3041, 3130, 3135, 3140, 3172, 3186, 3203, 3213, 3231, 3250, 3254, 3316, 3320, 3321, 3328, 3331, 3364, 3372, 3373, 3384, 3388, 3402, 3420, 3422, 3427, 3436, 3450, 3458, 3472, 3483, 3486, 3491, 3492, 3520, 3545, 3556, 3581, 3597, 3626, 3637, 3646, 3653, 3657, 3658, 3675, 3684, 3690, 3697, 3713, 3719, 3786, 3820, 3824, 3836, 3837, 3851, 3863, 3904, 3909, 3938, 3948, 3979, 4004, 4010, 4023, 4026, 4041, 4047, 4048, 4108, 4130, 4150, 4157, 4189, 4192, 4236, 4262, 4282, 4326, 4360, 4439, 4440, 4447, 4485, 4505, 4521, 4528, 4530, 4537, 4543, 4554, 4558, 4563, 4564, 4583, 4599, 4601, 4625, 4640, 4668, 4669, 4670, 4672, 4689, 4693, 4728, 4731, 4754, 4767, 4769, 4818, 4857, 4862, 4866, 4881, 4921, 4923, 4928, 4947, 4981, 4985, 5011, 5017, 5024, 5067, 5073, 5161, 5166, 5183, 5262, 5273, 5280, 5286, 5386, 5387, 5392, 5394, 5399, 5401, 5430, 5432, 5436, 5438, 5472, 5479, 5481, 5527, 5546, 5547, 5585, 5590, 5606, 5615, 5629, 5634, 5665, 5690, 5701, 5733, 5768, 5775, 5793, 5803, 5819, 5846, 5850, 5896, 5914, 5916, 5932, 5944, 5959, 5965, 5990, 5991, 5997, 6000, 6021, 6037, 6046, 6086, 6099, 6107, 6111, 6154, 6161, 6167, 6181, 6186, 6187, 6203, 6260, 6265, 6293, 6323, 6333, 6339, 6379, 6380, 6390, 6492, 6520, 6547, 6557, 6564, 6595, 6604, 6627, 6635, 6670, 6683, 6689, 6701, 6703, 6709, 6715, 6797, 6801, 6862, 6950, 6960, 6994, 7012, 7036, 7040, 7050, 7052, 7068, 7099, 7112, 7115, 7117, 7188, 7200, 7208, 7226, 7227, 7286, 7290, 7338, 7402, 7404, 7428, 7451, 7481, 7492, 7500, 7525, 7543, 7547, 7557, 7595, 7615, 7661, 7725, 7737, 7755, 7768, 7777, 7830, 7833, 7847, 7855, 7858, 7860, 7962, 7982, 7998, 8019, 8066, 8080, 8093, 8149, 8157, 8166, 8167, 8181, 8182, 8194, 8195, 8201, 8224, 8240, 8266, 8273, 8298, 8310, 8321, 8323, 8347, 8348, 8377, 8398, 8418, 8422, 8436, 8443, 8479, 8484, 8505, 8518, 8536, 8544, 8576, 8610, 8636, 8642, 8656, 8658, 8704, 8718, 8727, 8738, 8752, 8777, 8792, 8813, 8875, 8883, 8910, 8937, 8959, 8972, 9000, 9014, 9016, 9079, 9095, 9100, 9110, 9111, 9115, 9173, 9187, 9189, 9222, 9246, 9256, 9319, 9355, 9399, 9412, 9435, 9444, 9447, 9450, 9459, 9466, 9469, 9499, 9527, 9532, 9536, 9547, 9556, 9566, 9569, 9571, 9579, 9699, 9723, 9737, 9741, 9748, 9775, 9778, 9782, 9847, 9894, 9900, 9954, 9981, 9993, 10090, 10117, 10155, 10162, 10217, 10272, 10284, 10286, 10302, 10350, 10351, 10354, 10365, 10366, 10376, 10516, 10518, 10570, 10596, 10607, 10615, 10639, 10682, 10697, 10741, 10749, 10767, 10811, 10833, 10887, 10919, 10955, 10956, 10961, 10972, 10999, 11027, 11059, 11064, 11068, 11081, 11084, 11150, 11187, 11191, 11236, 11243, 11271, 11303, 11446, 11451, 11483, 11568, 11649, 11727, 11747, 11754, 11763, 11768, 11782, 11792, 11865, 11964, 11983, 12005, 12029, 12036, 12097, 12133, 12150, 12159, 12172, 12213, 12252, 12255, 12264, 12316, 12325, 12332, 12345, 12353, 12367, 12407, 12441, 12454, 12456, 12473, 12477, 12545, 12560, 12570, 12617, 12625, 12638, 12707, 12716, 12718, 12736, 12748, 12762, 12803, 12808, 12817, 12859, 12892, 12922, 12932, 12952, 12957, 12982, 13008, 13063, 13080, 13173, 13224, 13233, 13324, 13357, 13371, 13401, 13411, 13534, 13600, 13604, 13614, 13620, 13650, 13664, 13675, 13749, 13754, 13779, 13794, 13836, 13876, 13894, 13896, 13900, 13905, 13933, 13963, 13977, 14009, 14055, 14099, 14115, 14161, 14195, 14201, 14210, 14252, 14259, 14270, 14280, 14351, 14388, 14417, 14423, 14476, 14515, 14524, 14560, 14572, 14639, 14647, 14681, 14682, 14742, 14751, 14764, 14800, 14823, 14846, 14855, 14866, 14901, 14911, 14939, 14966, 15046, 15056, 15069, 15077, 15221, 15224, 15236, 15244, 15261, 15275, 15295, 15314, 15317, 15344, 15393, 15413, 15416, 15485, 15488, 15502, 15505, 15512, 15564, 15622, 15651, 15684, 15687, 15699, 15700, 15826, 15871, 15891, 15908, 15912, 15974, 16054, 16085, 16095, 16115, 16124, 16126, 16179, 16200, 16227, 16354, 16394, 16421, 16425, 16450, 16452, 16461, 16463, 16474, 16614, 16627, 16634, 16698, 16710, 16733, 16739, 16811, 16827, 16877, 16878, 16894, 16909, 16990, 17020, 17043, 17077, 17078, 17087, 17142, 17159, 17197, 17201, 17212, 17266, 17365, 17384, 17402, 17419, 17447, 17464, 17503, 17504, 17506, 17521, 17561, 17579, 17583, 17586, 17670, 17675, 17680, 17713, 17737, 17748, 17766, 17785, 17816, 17836, 17867, 17870, 17876, 17880, 17905, 17975, 17990, 18013, 18086, 18146, 18162, 18172, 18185, 18219, 18257, 18295, 18317, 18318, 18339, 18355, 18370, 18395, 18421, 18434, 18465, 18517, 18518, 18521, 18529, 18578, 18594, 18665, 18690, 18715, 18719, 18739, 18773, 18787, 18816, 18823, 18937, 18969, 19010, 19057, 19064, 19068, 19107, 19123, 19169, 19214, 19232, 19301, 19386, 19388, 19424, 19441, 19471, 19472, 19517, 19553, 19566, 19571, 19581, 19618, 19629, 19642, 19669, 19691, 19696, 19712, 19755, 19757, 19795, 19798, 19816, 19845, 19900, 19903, 19931, 19935, 19962, 19971, 19979, 20017, 20020, 20035, 20061, 20075, 20127, 20129, 20145, 20152, 20164, 20174, 20333, 20334, 20373, 20384, 20391, 20429, 20443, 20486, 20502, 20550, 20557, 20571, 20579, 20587, 20591, 20605, 20657, 20678, 20713, 20751, 20767, 20768, 20789, 20876, 20881, 20975, 20992, 21003, 21076, 21089, 21131, 21179, 21245, 21267, 21275, 21280, 21348, 21356, 21357, 21405, 21438, 21445, 21528, 21557, 21558, 21560, 21565, 21626, 21628, 21675, 21676, 21816, 21887, 21917, 21930, 21965, 22004, 22014, 22117, 22120, 22157, 22225, 22299, 22380, 22384, 22451, 22461, 22471, 22493, 22535, 22566, 22651, 22673, 22674, 22683, 22691, 22719, 22726, 22732, 22733, 22782, 22814, 22935, 22938, 23057, 23059]}}\n"
     ]
    }
   ],
   "source": [
    "import requests # Импортируем модуль requests\n",
    "token = '72bd25cc6885e4d0fd20459d509fa86d63ee9867baaf8dc300c8398acd618ebe80e06da04488353d5e184' # Указываем свой сервисный токен\n",
    "url = 'https://api.vk.com/method/groups.getMembers' # Указываем адрес обращения\n",
    "params = {'group_id': 'vk', 'v': 5.95, 'access_token': token} # Формируем строку параметров\n",
    "response = requests.get(url, params = params) # Посылаем запрос\n",
    "data = response.json() # Ответ сохраняем в переменной data в формате словаря\n",
    "print(data) # Выводим содержимое переменной data на экран (отображён фрагмент)"
   ]
  },
  {
   "cell_type": "code",
   "execution_count": 54,
   "metadata": {},
   "outputs": [
    {
     "name": "stdout",
     "output_type": "stream",
     "text": [
      "1000\n"
     ]
    }
   ],
   "source": [
    "print(len(data['response']['items'])) # Выводим на экран количество элементов словаря"
   ]
  },
  {
   "cell_type": "code",
   "execution_count": 55,
   "metadata": {},
   "outputs": [
    {
     "name": "stdout",
     "output_type": "stream",
     "text": [
      "[6, 19, 47, 54, 79, 177, 198, 212, 219, 239, 243, 345, 407, 467, 485, 510, 550, 619, 640, 690]\n"
     ]
    }
   ],
   "source": [
    "users_for_checking = data['response']['items'][:20] # Загружаем в переменную информацию об id первых 20 пользователей в виде списка\n",
    "print(users_for_checking) # Выводим перечень id первых 20 пользователей"
   ]
  },
  {
   "cell_type": "code",
   "execution_count": null,
   "metadata": {},
   "outputs": [],
   "source": [
    "import requests # Импортируем модуль requests\n",
    "token = ' ... ' # Указываем свой сервисный токен\n",
    "url = 'https://api.vk.com/method/groups.getMembers' # Указываем адрес обращения\n",
    "count = 5 \n",
    "offset = 0 \n",
    "user_ids = [] \n",
    "max_count = 20 \n",
    "while offset < max_count: \n",
    "    # Будем выгружать по count=5 пользователей, \n",
    "    # начиная с того места, где закончили на предыдущей итерации (offset) \n",
    "    print('Выгружаю {} пользователей с offset = {}'.format(count, offset))   \n",
    "    params = {'group_id': 'vk', 'v': 5.95, 'count': count, 'offset': offset, 'access_token': token} \n",
    "    response = requests.get(url, params = params) \n",
    "    data = response.json() \n",
    "    user_ids += data['response']['items'] \n",
    "    # Увеличиваем смещение на количество строк, которое мы уже выгрузили \n",
    "    offset += count \n",
    "print(user_ids) "
   ]
  },
  {
   "cell_type": "code",
   "execution_count": null,
   "metadata": {},
   "outputs": [],
   "source": [
    "print(user_ids == users_for_checking) "
   ]
  },
  {
   "cell_type": "markdown",
   "metadata": {},
   "source": [
    "ОГРАНИЧЕНИЕ ПО ЧАСТОТЕ ЗАПРОСОВ"
   ]
  },
  {
   "cell_type": "code",
   "execution_count": null,
   "metadata": {},
   "outputs": [],
   "source": [
    "import requests # Импортируем модуль requests\n",
    "import time # Импортируем модуль time\n",
    "token = ' ... ' # Указываем свой сервисный токен\n",
    "url = 'https://api.vk.com/method/groups.getMembers' # Указываем адрес страницы, к которой делаем запрос\n",
    "count = 1000 \n",
    "offset = 0  \n",
    "user_ids = []  \n",
    "while offset < 5000: \n",
    "    params = {'group_id': 'vk', 'v': 5.95, 'count': count, 'offset': offset, 'access_token': token} \n",
    "    response = requests.get(url, params = params) \n",
    "    data = response.json() \n",
    "    user_ids += data['response']['items'] \n",
    "    offset += count \n",
    "    print('Ожидаю 0.5 секунды...') \n",
    "    time.sleep(0.5) \n",
    "print('Цикл завершен, offset =',offset) "
   ]
  },
  {
   "cell_type": "markdown",
   "metadata": {},
   "source": [
    "ЛАЙКИ, РЕПОСТЫ И КОММЕНТАРИИ"
   ]
  },
  {
   "cell_type": "code",
   "execution_count": 56,
   "metadata": {},
   "outputs": [
    {
     "name": "stdout",
     "output_type": "stream",
     "text": [
      "{'error': {'error_code': 3,\n",
      "           'error_msg': 'Unknown method passed',\n",
      "           'request_params': [{'key': 'domain', 'value': 'vk'},\n",
      "                              {'key': 'filter', 'value': 'owner'},\n",
      "                              {'key': 'count', 'value': '1000'},\n",
      "                              {'key': 'offset', 'value': '0'},\n",
      "                              {'key': 'v', 'value': '5.95'},\n",
      "                              {'key': 'method', 'value': 'wall.get'},\n",
      "                              {'key': 'oauth', 'value': '1'}]}}\n"
     ]
    }
   ],
   "source": [
    "import requests # Импортируем модуль requests\n",
    "from pprint import pprint # Импортируем функцию pprint()\n",
    "token = '72bd25cc6885e4d0fd20459d509fa86d63ee9867baaf8dc300c8398acd618ebe80e06da04488353d5e184' # Указываем свой сервисный токен\n",
    "url = 'https://api.vk.com/method/wall.get' # Указываем адрес страницы, к которой делаем запрос\n",
    "params = {'domain': 'vk', 'filter': 'owner', 'count': 1000, 'offset': 0, 'access_token': token, 'v': 5.95} \n",
    "response = requests.get(url, params = params) \n",
    "pprint(response.json()) "
   ]
  },
  {
   "cell_type": "code",
   "execution_count": 57,
   "metadata": {},
   "outputs": [
    {
     "ename": "KeyError",
     "evalue": "'response'",
     "output_type": "error",
     "traceback": [
      "\u001b[1;31m---------------------------------------------------------------------------\u001b[0m",
      "\u001b[1;31mKeyError\u001b[0m                                  Traceback (most recent call last)",
      "\u001b[1;32m~\\AppData\\Local\\Temp/ipykernel_6460/1151547395.py\u001b[0m in \u001b[0;36m<module>\u001b[1;34m\u001b[0m\n\u001b[1;32m----> 1\u001b[1;33m \u001b[0mresponse\u001b[0m\u001b[1;33m.\u001b[0m\u001b[0mjson\u001b[0m\u001b[1;33m(\u001b[0m\u001b[1;33m)\u001b[0m\u001b[1;33m[\u001b[0m\u001b[1;34m'response'\u001b[0m\u001b[1;33m]\u001b[0m\u001b[1;33m[\u001b[0m\u001b[1;34m'items'\u001b[0m\u001b[1;33m]\u001b[0m\u001b[1;33m[\u001b[0m\u001b[1;36m0\u001b[0m\u001b[1;33m]\u001b[0m\u001b[1;33m\u001b[0m\u001b[1;33m\u001b[0m\u001b[0m\n\u001b[0m",
      "\u001b[1;31mKeyError\u001b[0m: 'response'"
     ]
    }
   ],
   "source": [
    "response.json()['response']['items'][0] "
   ]
  },
  {
   "cell_type": "code",
   "execution_count": 58,
   "metadata": {},
   "outputs": [
    {
     "ename": "KeyError",
     "evalue": "'response'",
     "output_type": "error",
     "traceback": [
      "\u001b[1;31m---------------------------------------------------------------------------\u001b[0m",
      "\u001b[1;31mKeyError\u001b[0m                                  Traceback (most recent call last)",
      "\u001b[1;32m~\\AppData\\Local\\Temp/ipykernel_6460/4198855271.py\u001b[0m in \u001b[0;36m<module>\u001b[1;34m\u001b[0m\n\u001b[0;32m      1\u001b[0m \u001b[0mstats\u001b[0m \u001b[1;33m=\u001b[0m \u001b[1;33m{\u001b[0m\u001b[1;33m}\u001b[0m\u001b[1;33m\u001b[0m\u001b[1;33m\u001b[0m\u001b[0m\n\u001b[0;32m      2\u001b[0m \u001b[0mcount_post\u001b[0m \u001b[1;33m=\u001b[0m \u001b[1;36m0\u001b[0m \u001b[1;31m# Счётчик «непустых» сообщений\u001b[0m\u001b[1;33m\u001b[0m\u001b[1;33m\u001b[0m\u001b[0m\n\u001b[1;32m----> 3\u001b[1;33m \u001b[1;32mfor\u001b[0m \u001b[0mrecord\u001b[0m \u001b[1;32min\u001b[0m \u001b[0mresponse\u001b[0m\u001b[1;33m.\u001b[0m\u001b[0mjson\u001b[0m\u001b[1;33m(\u001b[0m\u001b[1;33m)\u001b[0m\u001b[1;33m[\u001b[0m\u001b[1;34m'response'\u001b[0m\u001b[1;33m]\u001b[0m\u001b[1;33m[\u001b[0m\u001b[1;34m'items'\u001b[0m\u001b[1;33m]\u001b[0m\u001b[1;33m[\u001b[0m\u001b[1;33m:\u001b[0m\u001b[1;33m]\u001b[0m\u001b[1;33m:\u001b[0m\u001b[1;33m\u001b[0m\u001b[1;33m\u001b[0m\u001b[0m\n\u001b[0m\u001b[0;32m      4\u001b[0m     \u001b[0mtitle\u001b[0m \u001b[1;33m=\u001b[0m \u001b[0mrecord\u001b[0m\u001b[1;33m[\u001b[0m\u001b[1;34m'text'\u001b[0m\u001b[1;33m]\u001b[0m\u001b[1;33m[\u001b[0m\u001b[1;33m:\u001b[0m\u001b[1;36m30\u001b[0m\u001b[1;33m]\u001b[0m\u001b[1;33m\u001b[0m\u001b[1;33m\u001b[0m\u001b[0m\n\u001b[0;32m      5\u001b[0m     \u001b[1;32mif\u001b[0m \u001b[0mtitle\u001b[0m\u001b[1;33m:\u001b[0m\u001b[1;33m\u001b[0m\u001b[1;33m\u001b[0m\u001b[0m\n",
      "\u001b[1;31mKeyError\u001b[0m: 'response'"
     ]
    }
   ],
   "source": [
    "stats = {} \n",
    "count_post = 0 # Счётчик «непустых» сообщений\n",
    "for record in response.json()['response']['items'][:]:\n",
    "    title = record['text'][:30] \n",
    "    if title: \n",
    "        stats[title] = [record['comments']['count'], record['likes']['count'], record['reposts']['count'], record['date']] \n",
    "        count_post += 1 \n",
    "    if count_post < 10: \n",
    "        continue \n",
    "    else: \n",
    "        break \n",
    "pprint(stats)"
   ]
  }
 ],
 "metadata": {
  "interpreter": {
   "hash": "3059092d221275d610fe2452790651f75d2fd61cd7ae0dbfbcde41774a5fbf14"
  },
  "kernelspec": {
   "display_name": "Python 3.9.7 64-bit",
   "language": "python",
   "name": "python3"
  },
  "language_info": {
   "codemirror_mode": {
    "name": "ipython",
    "version": 3
   },
   "file_extension": ".py",
   "mimetype": "text/x-python",
   "name": "python",
   "nbconvert_exporter": "python",
   "pygments_lexer": "ipython3",
   "version": "3.9.7"
  },
  "orig_nbformat": 4
 },
 "nbformat": 4,
 "nbformat_minor": 2
}
