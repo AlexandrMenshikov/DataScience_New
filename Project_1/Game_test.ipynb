{
 "cells": [
  {
   "cell_type": "code",
   "execution_count": 1,
   "metadata": {},
   "outputs": [
    {
     "name": "stdout",
     "output_type": "stream",
     "text": [
      "Компьютер угадал число за 12 попыток\n"
     ]
    }
   ],
   "source": [
    "import random # импортируем библиотеки\n",
    "\n",
    "number = random.randint(1, 100) # загаданное число\n",
    "numPC = random.randint(1, 100) \n",
    "\n",
    "count = 1 # счетчик попыток\n",
    "lowerLimit = 1 # нижний предел для вычеслений\n",
    "upperLimit = 100 # верхний предел для вычеслений\n",
    "\n",
    "while numPC != number:\n",
    "  if numPC > number:\n",
    "    upperLimit = numPC+1\n",
    "  else:\n",
    "    lowerLimit = numPC-1\n",
    "    \n",
    "  count += 1\n",
    "  numPC = random.randint(lowerLimit, upperLimit)\n",
    "  \n",
    "print(f\"Компьютер угадал число за {count} попыток\")"
   ]
  }
 ],
 "metadata": {
  "interpreter": {
   "hash": "b3ba2566441a7c06988d0923437866b63cedc61552a5af99d1f4fb67d367b25f"
  },
  "kernelspec": {
   "display_name": "Python 3.8.8 64-bit ('base': conda)",
   "language": "python",
   "name": "python3"
  },
  "language_info": {
   "codemirror_mode": {
    "name": "ipython",
    "version": 3
   },
   "file_extension": ".py",
   "mimetype": "text/x-python",
   "name": "python",
   "nbconvert_exporter": "python",
   "pygments_lexer": "ipython3",
   "version": "3.12.5"
  },
  "orig_nbformat": 4
 },
 "nbformat": 4,
 "nbformat_minor": 2
}
