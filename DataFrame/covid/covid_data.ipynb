{
 "cells": [
  {
   "cell_type": "code",
   "execution_count": 2,
   "metadata": {},
   "outputs": [
    {
     "data": {
      "text/html": [
       "<div>\n",
       "<style scoped>\n",
       "    .dataframe tbody tr th:only-of-type {\n",
       "        vertical-align: middle;\n",
       "    }\n",
       "\n",
       "    .dataframe tbody tr th {\n",
       "        vertical-align: top;\n",
       "    }\n",
       "\n",
       "    .dataframe thead th {\n",
       "        text-align: right;\n",
       "    }\n",
       "</style>\n",
       "<table border=\"1\" class=\"dataframe\">\n",
       "  <thead>\n",
       "    <tr style=\"text-align: right;\">\n",
       "      <th></th>\n",
       "      <th>date</th>\n",
       "      <th>province/state</th>\n",
       "      <th>country</th>\n",
       "      <th>confirmed</th>\n",
       "      <th>deaths</th>\n",
       "      <th>recovered</th>\n",
       "    </tr>\n",
       "  </thead>\n",
       "  <tbody>\n",
       "    <tr>\n",
       "      <th>0</th>\n",
       "      <td>01/22/2020</td>\n",
       "      <td>Anhui</td>\n",
       "      <td>China</td>\n",
       "      <td>1.0</td>\n",
       "      <td>0.0</td>\n",
       "      <td>0.0</td>\n",
       "    </tr>\n",
       "    <tr>\n",
       "      <th>1</th>\n",
       "      <td>01/22/2020</td>\n",
       "      <td>Beijing</td>\n",
       "      <td>China</td>\n",
       "      <td>14.0</td>\n",
       "      <td>0.0</td>\n",
       "      <td>0.0</td>\n",
       "    </tr>\n",
       "    <tr>\n",
       "      <th>2</th>\n",
       "      <td>01/22/2020</td>\n",
       "      <td>Chongqing</td>\n",
       "      <td>China</td>\n",
       "      <td>6.0</td>\n",
       "      <td>0.0</td>\n",
       "      <td>0.0</td>\n",
       "    </tr>\n",
       "    <tr>\n",
       "      <th>3</th>\n",
       "      <td>01/22/2020</td>\n",
       "      <td>Fujian</td>\n",
       "      <td>China</td>\n",
       "      <td>1.0</td>\n",
       "      <td>0.0</td>\n",
       "      <td>0.0</td>\n",
       "    </tr>\n",
       "    <tr>\n",
       "      <th>4</th>\n",
       "      <td>01/22/2020</td>\n",
       "      <td>Gansu</td>\n",
       "      <td>China</td>\n",
       "      <td>0.0</td>\n",
       "      <td>0.0</td>\n",
       "      <td>0.0</td>\n",
       "    </tr>\n",
       "  </tbody>\n",
       "</table>\n",
       "</div>"
      ],
      "text/plain": [
       "         date province/state country  confirmed  deaths  recovered\n",
       "0  01/22/2020          Anhui   China        1.0     0.0        0.0\n",
       "1  01/22/2020        Beijing   China       14.0     0.0        0.0\n",
       "2  01/22/2020      Chongqing   China        6.0     0.0        0.0\n",
       "3  01/22/2020         Fujian   China        1.0     0.0        0.0\n",
       "4  01/22/2020          Gansu   China        0.0     0.0        0.0"
      ]
     },
     "metadata": {},
     "output_type": "display_data"
    }
   ],
   "source": [
    "import pandas as pd\n",
    "covid_data = pd.read_csv('C:\\\\Users\\\\admin2\\\\Documents\\\\Python\\\\DataScience_New\\\\DataFrame\\\\covid\\\\covid_data.csv', sep=',')\n",
    "display(covid_data.head())"
   ]
  },
  {
   "cell_type": "code",
   "execution_count": 3,
   "metadata": {},
   "outputs": [],
   "source": [
    "vaccinations_data = pd.read_csv('C:\\\\Users\\\\admin2\\\\Documents\\\\Python\\\\DataScience_New\\\\DataFrame\\\\covid\\\\country_vaccinations.csv')\n",
    "vaccinations_data = vaccinations_data[\n",
    "    ['country', 'date', 'total_vaccinations', \n",
    "     'people_vaccinated', 'people_vaccinated_per_hundred',\n",
    "     'people_fully_vaccinated', 'people_fully_vaccinated_per_hundred',\n",
    "     'daily_vaccinations', 'vaccines']\n",
    "]"
   ]
  },
  {
   "cell_type": "code",
   "execution_count": 4,
   "metadata": {},
   "outputs": [],
   "source": [
    "#Группируем таблицу по дате и названию страны и рассчитываем суммарные показатели по всем регионам\n",
    "covid_data = covid_data.groupby(\n",
    "    ['date', 'country'], \n",
    "    as_index=False\n",
    ")[['confirmed', 'deaths', 'recovered']].sum()"
   ]
  },
  {
   "cell_type": "code",
   "execution_count": 5,
   "metadata": {},
   "outputs": [],
   "source": [
    "#Преобразуем даты в формат datetime\n",
    "covid_data['date'] = pd.to_datetime(covid_data['date'])"
   ]
  },
  {
   "cell_type": "code",
   "execution_count": 6,
   "metadata": {},
   "outputs": [],
   "source": [
    "#Создадим признак больных на данный момент (active). \n",
    "#Для этого вычтем из общего числа зафиксированных случаев число смертей и число выздоровевших пациентов\n",
    "covid_data['active'] = covid_data['confirmed'] - covid_data['deaths'] - covid_data['recovered']"
   ]
  },
  {
   "cell_type": "markdown",
   "metadata": {},
   "source": [
    "Создадим признак ежедневного прироста числа заболевших, умерших и выздоровевших людей. Для этого отсортируем данные по названиям стран, а затем по датам. После этого произведём группировку по странам и рассчитаем разницу между «вчера и сегодня» с помощью метода diff():"
   ]
  },
  {
   "cell_type": "code",
   "execution_count": 7,
   "metadata": {},
   "outputs": [],
   "source": [
    "covid_data = covid_data.sort_values(by=['country', 'date'])\n",
    "covid_data['daily_confirmed'] = covid_data.groupby('country')['confirmed'].diff()\n",
    "covid_data['daily_deaths'] = covid_data.groupby('country')['deaths'].diff()\n",
    "covid_data['daily_recovered'] = covid_data.groupby('country')['recovered'].diff()"
   ]
  },
  {
   "cell_type": "code",
   "execution_count": 8,
   "metadata": {},
   "outputs": [
    {
     "data": {
      "text/html": [
       "<div>\n",
       "<style scoped>\n",
       "    .dataframe tbody tr th:only-of-type {\n",
       "        vertical-align: middle;\n",
       "    }\n",
       "\n",
       "    .dataframe tbody tr th {\n",
       "        vertical-align: top;\n",
       "    }\n",
       "\n",
       "    .dataframe thead th {\n",
       "        text-align: right;\n",
       "    }\n",
       "</style>\n",
       "<table border=\"1\" class=\"dataframe\">\n",
       "  <thead>\n",
       "    <tr style=\"text-align: right;\">\n",
       "      <th></th>\n",
       "      <th>date</th>\n",
       "      <th>country</th>\n",
       "      <th>confirmed</th>\n",
       "      <th>deaths</th>\n",
       "      <th>recovered</th>\n",
       "      <th>active</th>\n",
       "      <th>daily_confirmed</th>\n",
       "      <th>daily_deaths</th>\n",
       "      <th>daily_recovered</th>\n",
       "    </tr>\n",
       "  </thead>\n",
       "  <tbody>\n",
       "    <tr>\n",
       "      <th>11337</th>\n",
       "      <td>2020-02-24</td>\n",
       "      <td>Afghanistan</td>\n",
       "      <td>1.0</td>\n",
       "      <td>0.0</td>\n",
       "      <td>0.0</td>\n",
       "      <td>1.0</td>\n",
       "      <td>NaN</td>\n",
       "      <td>NaN</td>\n",
       "      <td>NaN</td>\n",
       "    </tr>\n",
       "    <tr>\n",
       "      <th>11570</th>\n",
       "      <td>2020-02-25</td>\n",
       "      <td>Afghanistan</td>\n",
       "      <td>1.0</td>\n",
       "      <td>0.0</td>\n",
       "      <td>0.0</td>\n",
       "      <td>1.0</td>\n",
       "      <td>0.0</td>\n",
       "      <td>0.0</td>\n",
       "      <td>0.0</td>\n",
       "    </tr>\n",
       "    <tr>\n",
       "      <th>11807</th>\n",
       "      <td>2020-02-26</td>\n",
       "      <td>Afghanistan</td>\n",
       "      <td>1.0</td>\n",
       "      <td>0.0</td>\n",
       "      <td>0.0</td>\n",
       "      <td>1.0</td>\n",
       "      <td>0.0</td>\n",
       "      <td>0.0</td>\n",
       "      <td>0.0</td>\n",
       "    </tr>\n",
       "    <tr>\n",
       "      <th>12051</th>\n",
       "      <td>2020-02-27</td>\n",
       "      <td>Afghanistan</td>\n",
       "      <td>1.0</td>\n",
       "      <td>0.0</td>\n",
       "      <td>0.0</td>\n",
       "      <td>1.0</td>\n",
       "      <td>0.0</td>\n",
       "      <td>0.0</td>\n",
       "      <td>0.0</td>\n",
       "    </tr>\n",
       "    <tr>\n",
       "      <th>12299</th>\n",
       "      <td>2020-02-28</td>\n",
       "      <td>Afghanistan</td>\n",
       "      <td>1.0</td>\n",
       "      <td>0.0</td>\n",
       "      <td>0.0</td>\n",
       "      <td>1.0</td>\n",
       "      <td>0.0</td>\n",
       "      <td>0.0</td>\n",
       "      <td>0.0</td>\n",
       "    </tr>\n",
       "  </tbody>\n",
       "</table>\n",
       "</div>"
      ],
      "text/plain": [
       "            date      country  confirmed  deaths  recovered  active  \\\n",
       "11337 2020-02-24  Afghanistan        1.0     0.0        0.0     1.0   \n",
       "11570 2020-02-25  Afghanistan        1.0     0.0        0.0     1.0   \n",
       "11807 2020-02-26  Afghanistan        1.0     0.0        0.0     1.0   \n",
       "12051 2020-02-27  Afghanistan        1.0     0.0        0.0     1.0   \n",
       "12299 2020-02-28  Afghanistan        1.0     0.0        0.0     1.0   \n",
       "\n",
       "       daily_confirmed  daily_deaths  daily_recovered  \n",
       "11337              NaN           NaN              NaN  \n",
       "11570              0.0           0.0              0.0  \n",
       "11807              0.0           0.0              0.0  \n",
       "12051              0.0           0.0              0.0  \n",
       "12299              0.0           0.0              0.0  "
      ]
     },
     "execution_count": 8,
     "metadata": {},
     "output_type": "execute_result"
    }
   ],
   "source": [
    "covid_data.head()"
   ]
  },
  {
   "cell_type": "code",
   "execution_count": 9,
   "metadata": {},
   "outputs": [],
   "source": [
    "#Преобразуем даты в формат datetime\n",
    "vaccinations_data['date'] = pd.to_datetime(vaccinations_data['date'])"
   ]
  },
  {
   "cell_type": "code",
   "execution_count": 14,
   "metadata": {},
   "outputs": [
    {
     "data": {
      "text/plain": [
       "Timestamp('2020-12-02 00:00:00')"
      ]
     },
     "metadata": {},
     "output_type": "display_data"
    },
    {
     "data": {
      "text/plain": [
       "Timestamp('2021-09-06 00:00:00')"
      ]
     },
     "metadata": {},
     "output_type": "display_data"
    }
   ],
   "source": [
    "display(vaccinations_data['date'].min())\n",
    "display(vaccinations_data['date'].max())"
   ]
  },
  {
   "cell_type": "code",
   "execution_count": 21,
   "metadata": {},
   "outputs": [
    {
     "name": "stdout",
     "output_type": "stream",
     "text": [
      "<class 'pandas.core.frame.DataFrame'>\n",
      "Int64Index: 86785 entries, 0 to 86784\n",
      "Data columns (total 16 columns):\n",
      " #   Column                               Non-Null Count  Dtype         \n",
      "---  ------                               --------------  -----         \n",
      " 0   date                                 86785 non-null  datetime64[ns]\n",
      " 1   country                              86785 non-null  object        \n",
      " 2   confirmed                            86785 non-null  float64       \n",
      " 3   deaths                               86785 non-null  float64       \n",
      " 4   recovered                            86785 non-null  float64       \n",
      " 5   active                               86785 non-null  float64       \n",
      " 6   daily_confirmed                      86564 non-null  float64       \n",
      " 7   daily_deaths                         86564 non-null  float64       \n",
      " 8   daily_recovered                      86564 non-null  float64       \n",
      " 9   total_vaccinations                   10629 non-null  float64       \n",
      " 10  people_vaccinated                    10007 non-null  float64       \n",
      " 11  people_vaccinated_per_hundred        10007 non-null  float64       \n",
      " 12  people_fully_vaccinated              7695 non-null   float64       \n",
      " 13  people_fully_vaccinated_per_hundred  7695 non-null   float64       \n",
      " 14  daily_vaccinations                   18264 non-null  float64       \n",
      " 15  vaccines                             18451 non-null  object        \n",
      "dtypes: datetime64[ns](1), float64(13), object(2)\n",
      "memory usage: 11.3+ MB\n"
     ]
    },
    {
     "data": {
      "text/plain": [
       "None"
      ]
     },
     "metadata": {},
     "output_type": "display_data"
    }
   ],
   "source": [
    "covid_df = covid_data.merge(\n",
    "    vaccinations_data,\n",
    "    on = ['date','country'],\n",
    "    how='left'\n",
    ")\n",
    "display(covid_df.info())"
   ]
  },
  {
   "cell_type": "code",
   "execution_count": 22,
   "metadata": {},
   "outputs": [],
   "source": [
    "covid_df['death_rate'] = covid_df['deaths'] / covid_df['confirmed'] * 100\n",
    "covid_df['recover_rate'] = covid_df['recovered'] / covid_df['confirmed'] * 100"
   ]
  },
  {
   "cell_type": "code",
   "execution_count": 38,
   "metadata": {},
   "outputs": [
    {
     "data": {
      "text/plain": [
       "67.06"
      ]
     },
     "execution_count": 38,
     "metadata": {},
     "output_type": "execute_result"
    }
   ],
   "source": [
    "round(covid_df[covid_df['country'] == 'Russia']['recover_rate'].mean(), 2)"
   ]
  },
  {
   "cell_type": "code",
   "execution_count": 48,
   "metadata": {},
   "outputs": [],
   "source": [
    "covid_df.to_csv('covid.csv')"
   ]
  }
 ],
 "metadata": {
  "interpreter": {
   "hash": "b3ba2566441a7c06988d0923437866b63cedc61552a5af99d1f4fb67d367b25f"
  },
  "kernelspec": {
   "display_name": "Python 3.8.8 64-bit ('base': conda)",
   "language": "python",
   "name": "python3"
  },
  "language_info": {
   "codemirror_mode": {
    "name": "ipython",
    "version": 3
   },
   "file_extension": ".py",
   "mimetype": "text/x-python",
   "name": "python",
   "nbconvert_exporter": "python",
   "pygments_lexer": "ipython3",
   "version": "3.8.8"
  },
  "orig_nbformat": 4
 },
 "nbformat": 4,
 "nbformat_minor": 2
}
